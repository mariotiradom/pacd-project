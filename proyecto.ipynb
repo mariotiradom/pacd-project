{
 "cells": [
  {
   "cell_type": "code",
   "execution_count": 20,
   "id": "12a2e2cf",
   "metadata": {},
   "outputs": [],
   "source": [
    "# cargar librerías\n",
    "import pandas as pd\n",
    "import plotly.express as px\n",
    "import datetime as dt\n",
    "from dash import Dash, dcc, html, Input, Output"
   ]
  },
  {
   "cell_type": "code",
   "execution_count": 2,
   "id": "25a85cd2",
   "metadata": {},
   "outputs": [],
   "source": [
    "# definir funciones\n",
    "def load_data(file_path):\n",
    "    try:\n",
    "        data = pd.read_excel(file_path, header = 3)\n",
    "        return data\n",
    "    except Exception as e:\n",
    "        print(f\"Error loading data from {file_path}: {e}\")\n",
    "        return None"
   ]
  },
  {
   "cell_type": "code",
   "execution_count": 3,
   "id": "359c55ac",
   "metadata": {},
   "outputs": [
    {
     "name": "stdout",
     "output_type": "stream",
     "text": [
      "(6718, 28)\n",
      "Index(['CÓDIGO SINIESTRO', 'CÓDIGO VEHICULO', 'DEPARTAMENTO', 'PROVINCIA',\n",
      "       'DISTRITO', 'SITUACIÓN VEHÍCULO', 'ESTADO MODALIDAD',\n",
      "       'MODALIDAD DE TRANSPORTE', 'ELEMENTO TRANSPORTADO', 'AMBITO SERVICIO',\n",
      "       'POSEE SEGURO', 'ESTADO SOAT', 'TIPO SEGURO', 'COMPAÑIA SEGURO',\n",
      "       'POSEE CITV', 'ESTADO CITV', 'LUGAR IMPACTO VEHÍCULO', 'VEHÍCULO',\n",
      "       'TIPO SINIESTRO', 'FECHA', 'AÑO', 'MES', 'DÍA', 'HORA',\n",
      "       'CÓDIGO DE CARRETERA', 'TIPO DE VÍA'],\n",
      "      dtype='object')\n"
     ]
    }
   ],
   "source": [
    "# copiar ruta de los archivos\n",
    "siniestros_path = 'C:/Users/User_001/Documents/PACD/proyecto/BBDD ONSV - SINIESTROS 2021-2023.xlsx'\n",
    "vehiculos_path = 'C:/Users/User_001/Documents/PACD/proyecto/BBDD ONSV - VEHICULOS 2021-2023.xlsx'\n",
    "\n",
    "# cargar datos\n",
    "siniestros = load_data(siniestros_path)\n",
    "vehiculos = load_data(vehiculos_path)\n",
    "\n",
    "# limpiar siniestros 'CÓDIGO SINIESTRO'\n",
    "siniestros = siniestros.drop_duplicates(subset = 'CÓDIGO SINIESTRO', keep = 'first')\n",
    "print(siniestros.shape)\n",
    "print(vehiculos.columns)"
   ]
  },
  {
   "cell_type": "code",
   "execution_count": 4,
   "id": "b88b106a",
   "metadata": {},
   "outputs": [],
   "source": [
    "siniestros = siniestros[['CÓDIGO SINIESTRO', 'FECHA SINIESTRO', 'HORA SINIESTRO', 'CLASE SINIESTRO', 'DEPARTAMENTO', 'PROVINCIA', 'DISTRITO', 'TIPO DE VÍA', 'COORDENADAS LATITUD', 'COORDENADAS  LONGITUD', 'CONDICIÓN CLIMÁTICA', 'SUPERFICIE DE CALZADA', 'CAUSA FACTOR PRINCIPAL']]\n",
    "vehiculos = vehiculos[['CÓDIGO SINIESTRO', 'VEHÍCULO', 'MES', 'DÍA', 'HORA', 'AÑO']]"
   ]
  },
  {
   "cell_type": "code",
   "execution_count": 5,
   "id": "5b7065d0",
   "metadata": {},
   "outputs": [
    {
     "name": "stdout",
     "output_type": "stream",
     "text": [
      "Siniestros does have a size of: (6718, 13)\n",
      "Vehiculos does have a size of: (9451, 6)\n",
      "6718 unique siniestros found.\n",
      "6718 unique siniestros found in vehiculos.\n"
     ]
    }
   ],
   "source": [
    "print(f'Siniestros does have a size of: {siniestros.shape}')\n",
    "print(f'Vehiculos does have a size of: {vehiculos.shape}')\n",
    "print(f'{siniestros['CÓDIGO SINIESTRO'].nunique()} unique siniestros found.')\n",
    "print(f'{vehiculos['CÓDIGO SINIESTRO'].nunique()} unique siniestros found in vehiculos.')"
   ]
  },
  {
   "cell_type": "code",
   "execution_count": 6,
   "id": "30f1b81f",
   "metadata": {},
   "outputs": [],
   "source": [
    "#print(siniestros)"
   ]
  },
  {
   "cell_type": "code",
   "execution_count": 7,
   "id": "829a651c",
   "metadata": {},
   "outputs": [
    {
     "name": "stdout",
     "output_type": "stream",
     "text": [
      "(9451, 18)\n"
     ]
    }
   ],
   "source": [
    "vehiculos_siniestros = pd.merge(siniestros, vehiculos, on = 'CÓDIGO SINIESTRO', how = 'inner')\n",
    "print(vehiculos_siniestros.shape)"
   ]
  },
  {
   "cell_type": "code",
   "execution_count": 8,
   "id": "7e26ac61",
   "metadata": {},
   "outputs": [
    {
     "data": {
      "text/html": [
       "<div>\n",
       "<style scoped>\n",
       "    .dataframe tbody tr th:only-of-type {\n",
       "        vertical-align: middle;\n",
       "    }\n",
       "\n",
       "    .dataframe tbody tr th {\n",
       "        vertical-align: top;\n",
       "    }\n",
       "\n",
       "    .dataframe thead th {\n",
       "        text-align: right;\n",
       "    }\n",
       "</style>\n",
       "<table border=\"1\" class=\"dataframe\">\n",
       "  <thead>\n",
       "    <tr style=\"text-align: right;\">\n",
       "      <th></th>\n",
       "      <th>CÓDIGO SINIESTRO</th>\n",
       "      <th>FECHA SINIESTRO</th>\n",
       "      <th>HORA SINIESTRO</th>\n",
       "      <th>CLASE SINIESTRO</th>\n",
       "      <th>DEPARTAMENTO</th>\n",
       "      <th>PROVINCIA</th>\n",
       "      <th>DISTRITO</th>\n",
       "      <th>TIPO DE VÍA</th>\n",
       "      <th>COORDENADAS LATITUD</th>\n",
       "      <th>COORDENADAS  LONGITUD</th>\n",
       "      <th>CONDICIÓN CLIMÁTICA</th>\n",
       "      <th>SUPERFICIE DE CALZADA</th>\n",
       "      <th>CAUSA FACTOR PRINCIPAL</th>\n",
       "      <th>VEHÍCULO</th>\n",
       "      <th>MES</th>\n",
       "      <th>DÍA</th>\n",
       "      <th>HORA</th>\n",
       "      <th>AÑO</th>\n",
       "    </tr>\n",
       "  </thead>\n",
       "  <tbody>\n",
       "    <tr>\n",
       "      <th>0</th>\n",
       "      <td>A-2021-01-23</td>\n",
       "      <td>01/01/2021</td>\n",
       "      <td>04:40</td>\n",
       "      <td>DESPISTE</td>\n",
       "      <td>LIMA</td>\n",
       "      <td>HUARAL</td>\n",
       "      <td>HUARAL</td>\n",
       "      <td>CARRETERA</td>\n",
       "      <td>-11.482879</td>\n",
       "      <td>-77.255547</td>\n",
       "      <td>DESPEJADO</td>\n",
       "      <td>TROCHA</td>\n",
       "      <td>NO IDENTIFICA LA CAUSA</td>\n",
       "      <td>CAMIONETA RURAL</td>\n",
       "      <td>ENERO</td>\n",
       "      <td>VIERNES</td>\n",
       "      <td>4</td>\n",
       "      <td>2021</td>\n",
       "    </tr>\n",
       "    <tr>\n",
       "      <th>1</th>\n",
       "      <td>A-2021-01-248</td>\n",
       "      <td>01/01/2021</td>\n",
       "      <td>05:45</td>\n",
       "      <td>DESPISTE</td>\n",
       "      <td>LIMA</td>\n",
       "      <td>LIMA</td>\n",
       "      <td>PACHACAMAC</td>\n",
       "      <td>AVENIDA</td>\n",
       "      <td>-12.229400</td>\n",
       "      <td>-76.859412</td>\n",
       "      <td>DESPEJADO</td>\n",
       "      <td>ASFALTADA</td>\n",
       "      <td>IMPRUDENCIA DEL CONDUCTOR</td>\n",
       "      <td>TRIMOTO PASAJERO</td>\n",
       "      <td>ENERO</td>\n",
       "      <td>VIERNES</td>\n",
       "      <td>5</td>\n",
       "      <td>2021</td>\n",
       "    </tr>\n",
       "    <tr>\n",
       "      <th>2</th>\n",
       "      <td>A-2021-01-38</td>\n",
       "      <td>01/01/2021</td>\n",
       "      <td>06:00</td>\n",
       "      <td>ATROPELLO FUGA</td>\n",
       "      <td>LA LIBERTAD</td>\n",
       "      <td>VIRU</td>\n",
       "      <td>VIRU</td>\n",
       "      <td>CARRETERA</td>\n",
       "      <td>-8.414865</td>\n",
       "      <td>-78.754544</td>\n",
       "      <td>DESPEJADO</td>\n",
       "      <td>ASFALTADA</td>\n",
       "      <td>NO IDENTIFICA LA CAUSA</td>\n",
       "      <td>VEHICULO NO IDENTIFICADO</td>\n",
       "      <td>ENERO</td>\n",
       "      <td>VIERNES</td>\n",
       "      <td>6</td>\n",
       "      <td>2021</td>\n",
       "    </tr>\n",
       "    <tr>\n",
       "      <th>3</th>\n",
       "      <td>A-2021-01-39</td>\n",
       "      <td>01/01/2021</td>\n",
       "      <td>07:00</td>\n",
       "      <td>CHOQUE</td>\n",
       "      <td>LA LIBERTAD</td>\n",
       "      <td>VIRU</td>\n",
       "      <td>VIRU</td>\n",
       "      <td>CARRETERA</td>\n",
       "      <td>-8.432617</td>\n",
       "      <td>-78.772242</td>\n",
       "      <td>DESPEJADO</td>\n",
       "      <td>ASFALTADA</td>\n",
       "      <td>IMPRUDENCIA DEL CONDUCTOR</td>\n",
       "      <td>MOTOCICLETA</td>\n",
       "      <td>ENERO</td>\n",
       "      <td>VIERNES</td>\n",
       "      <td>7</td>\n",
       "      <td>2021</td>\n",
       "    </tr>\n",
       "    <tr>\n",
       "      <th>4</th>\n",
       "      <td>A-2021-01-39</td>\n",
       "      <td>01/01/2021</td>\n",
       "      <td>07:00</td>\n",
       "      <td>CHOQUE</td>\n",
       "      <td>LA LIBERTAD</td>\n",
       "      <td>VIRU</td>\n",
       "      <td>VIRU</td>\n",
       "      <td>CARRETERA</td>\n",
       "      <td>-8.432617</td>\n",
       "      <td>-78.772242</td>\n",
       "      <td>DESPEJADO</td>\n",
       "      <td>ASFALTADA</td>\n",
       "      <td>IMPRUDENCIA DEL CONDUCTOR</td>\n",
       "      <td>MOTOCICLETA</td>\n",
       "      <td>ENERO</td>\n",
       "      <td>VIERNES</td>\n",
       "      <td>7</td>\n",
       "      <td>2021</td>\n",
       "    </tr>\n",
       "    <tr>\n",
       "      <th>5</th>\n",
       "      <td>A-2021-01-254</td>\n",
       "      <td>01/01/2021</td>\n",
       "      <td>14:00</td>\n",
       "      <td>ATROPELLO</td>\n",
       "      <td>LIMA</td>\n",
       "      <td>LIMA</td>\n",
       "      <td>VILLA MARIA DEL TRIUNFO</td>\n",
       "      <td>AVENIDA</td>\n",
       "      <td>-12.164406</td>\n",
       "      <td>-76.953426</td>\n",
       "      <td>DESPEJADO</td>\n",
       "      <td>ASFALTADA</td>\n",
       "      <td>IMPRUDENCIA DEL CONDUCTOR</td>\n",
       "      <td>MOTOCICLETA</td>\n",
       "      <td>ENERO</td>\n",
       "      <td>VIERNES</td>\n",
       "      <td>14</td>\n",
       "      <td>2021</td>\n",
       "    </tr>\n",
       "    <tr>\n",
       "      <th>6</th>\n",
       "      <td>A-2021-01-22</td>\n",
       "      <td>01/01/2021</td>\n",
       "      <td>17:45</td>\n",
       "      <td>CHOQUE</td>\n",
       "      <td>SAN MARTIN</td>\n",
       "      <td>RIOJA</td>\n",
       "      <td>RIOJA</td>\n",
       "      <td>JIRÓN</td>\n",
       "      <td>-6.063829</td>\n",
       "      <td>-77.171368</td>\n",
       "      <td>LLUVIOSO</td>\n",
       "      <td>CONCRETO</td>\n",
       "      <td>IMPRUDENCIA DEL CONDUCTOR</td>\n",
       "      <td>MOTOCICLETA</td>\n",
       "      <td>ENERO</td>\n",
       "      <td>VIERNES</td>\n",
       "      <td>17</td>\n",
       "      <td>2021</td>\n",
       "    </tr>\n",
       "    <tr>\n",
       "      <th>7</th>\n",
       "      <td>A-2021-01-22</td>\n",
       "      <td>01/01/2021</td>\n",
       "      <td>17:45</td>\n",
       "      <td>CHOQUE</td>\n",
       "      <td>SAN MARTIN</td>\n",
       "      <td>RIOJA</td>\n",
       "      <td>RIOJA</td>\n",
       "      <td>JIRÓN</td>\n",
       "      <td>-6.063829</td>\n",
       "      <td>-77.171368</td>\n",
       "      <td>LLUVIOSO</td>\n",
       "      <td>CONCRETO</td>\n",
       "      <td>IMPRUDENCIA DEL CONDUCTOR</td>\n",
       "      <td>MOTOCICLETA</td>\n",
       "      <td>ENERO</td>\n",
       "      <td>VIERNES</td>\n",
       "      <td>17</td>\n",
       "      <td>2021</td>\n",
       "    </tr>\n",
       "    <tr>\n",
       "      <th>8</th>\n",
       "      <td>A-2021-01-67</td>\n",
       "      <td>01/01/2021</td>\n",
       "      <td>21:00</td>\n",
       "      <td>CHOQUE CON OBJETO FIJO</td>\n",
       "      <td>LAMBAYEQUE</td>\n",
       "      <td>LAMBAYEQUE</td>\n",
       "      <td>LAMBAYEQUE</td>\n",
       "      <td>CARRETERA</td>\n",
       "      <td>-6.680472</td>\n",
       "      <td>-79.903582</td>\n",
       "      <td>DESPEJADO</td>\n",
       "      <td>ASFALTADA</td>\n",
       "      <td>NO IDENTIFICA LA CAUSA</td>\n",
       "      <td>MOTOCICLETA</td>\n",
       "      <td>ENERO</td>\n",
       "      <td>VIERNES</td>\n",
       "      <td>21</td>\n",
       "      <td>2021</td>\n",
       "    </tr>\n",
       "    <tr>\n",
       "      <th>9</th>\n",
       "      <td>A-2022-01-221</td>\n",
       "      <td>01/01/2022</td>\n",
       "      <td>04:30</td>\n",
       "      <td>CHOQUE</td>\n",
       "      <td>CUSCO</td>\n",
       "      <td>ESPINAR</td>\n",
       "      <td>ALTO PICHIGUA</td>\n",
       "      <td>CARRETERA</td>\n",
       "      <td>-14.737231</td>\n",
       "      <td>-71.326314</td>\n",
       "      <td>NUBLADO</td>\n",
       "      <td>ASFALTADA</td>\n",
       "      <td>IMPRUDENCIA DEL CONDUCTOR</td>\n",
       "      <td>CAMIÓN</td>\n",
       "      <td>ENERO</td>\n",
       "      <td>SÁBADO</td>\n",
       "      <td>4</td>\n",
       "      <td>2022</td>\n",
       "    </tr>\n",
       "  </tbody>\n",
       "</table>\n",
       "</div>"
      ],
      "text/plain": [
       "  CÓDIGO SINIESTRO FECHA SINIESTRO HORA SINIESTRO         CLASE SINIESTRO  \\\n",
       "0     A-2021-01-23      01/01/2021          04:40                DESPISTE   \n",
       "1    A-2021-01-248      01/01/2021          05:45                DESPISTE   \n",
       "2     A-2021-01-38      01/01/2021          06:00          ATROPELLO FUGA   \n",
       "3     A-2021-01-39      01/01/2021          07:00                  CHOQUE   \n",
       "4     A-2021-01-39      01/01/2021          07:00                  CHOQUE   \n",
       "5    A-2021-01-254      01/01/2021          14:00               ATROPELLO   \n",
       "6     A-2021-01-22      01/01/2021          17:45                  CHOQUE   \n",
       "7     A-2021-01-22      01/01/2021          17:45                  CHOQUE   \n",
       "8     A-2021-01-67      01/01/2021          21:00  CHOQUE CON OBJETO FIJO   \n",
       "9    A-2022-01-221      01/01/2022          04:30                  CHOQUE   \n",
       "\n",
       "  DEPARTAMENTO   PROVINCIA                 DISTRITO TIPO DE VÍA  \\\n",
       "0         LIMA      HUARAL                   HUARAL   CARRETERA   \n",
       "1         LIMA        LIMA               PACHACAMAC     AVENIDA   \n",
       "2  LA LIBERTAD        VIRU                     VIRU   CARRETERA   \n",
       "3  LA LIBERTAD        VIRU                     VIRU   CARRETERA   \n",
       "4  LA LIBERTAD        VIRU                     VIRU   CARRETERA   \n",
       "5         LIMA        LIMA  VILLA MARIA DEL TRIUNFO     AVENIDA   \n",
       "6   SAN MARTIN       RIOJA                    RIOJA       JIRÓN   \n",
       "7   SAN MARTIN       RIOJA                    RIOJA       JIRÓN   \n",
       "8   LAMBAYEQUE  LAMBAYEQUE               LAMBAYEQUE   CARRETERA   \n",
       "9        CUSCO     ESPINAR            ALTO PICHIGUA   CARRETERA   \n",
       "\n",
       "   COORDENADAS LATITUD  COORDENADAS  LONGITUD CONDICIÓN CLIMÁTICA  \\\n",
       "0           -11.482879             -77.255547           DESPEJADO   \n",
       "1           -12.229400             -76.859412           DESPEJADO   \n",
       "2            -8.414865             -78.754544           DESPEJADO   \n",
       "3            -8.432617             -78.772242           DESPEJADO   \n",
       "4            -8.432617             -78.772242           DESPEJADO   \n",
       "5           -12.164406             -76.953426           DESPEJADO   \n",
       "6            -6.063829             -77.171368            LLUVIOSO   \n",
       "7            -6.063829             -77.171368            LLUVIOSO   \n",
       "8            -6.680472             -79.903582           DESPEJADO   \n",
       "9           -14.737231             -71.326314             NUBLADO   \n",
       "\n",
       "  SUPERFICIE DE CALZADA     CAUSA FACTOR PRINCIPAL                  VEHÍCULO  \\\n",
       "0                TROCHA     NO IDENTIFICA LA CAUSA           CAMIONETA RURAL   \n",
       "1             ASFALTADA  IMPRUDENCIA DEL CONDUCTOR          TRIMOTO PASAJERO   \n",
       "2             ASFALTADA     NO IDENTIFICA LA CAUSA  VEHICULO NO IDENTIFICADO   \n",
       "3             ASFALTADA  IMPRUDENCIA DEL CONDUCTOR               MOTOCICLETA   \n",
       "4             ASFALTADA  IMPRUDENCIA DEL CONDUCTOR               MOTOCICLETA   \n",
       "5             ASFALTADA  IMPRUDENCIA DEL CONDUCTOR               MOTOCICLETA   \n",
       "6              CONCRETO  IMPRUDENCIA DEL CONDUCTOR               MOTOCICLETA   \n",
       "7              CONCRETO  IMPRUDENCIA DEL CONDUCTOR               MOTOCICLETA   \n",
       "8             ASFALTADA     NO IDENTIFICA LA CAUSA               MOTOCICLETA   \n",
       "9             ASFALTADA  IMPRUDENCIA DEL CONDUCTOR                    CAMIÓN   \n",
       "\n",
       "     MES      DÍA  HORA   AÑO  \n",
       "0  ENERO  VIERNES     4  2021  \n",
       "1  ENERO  VIERNES     5  2021  \n",
       "2  ENERO  VIERNES     6  2021  \n",
       "3  ENERO  VIERNES     7  2021  \n",
       "4  ENERO  VIERNES     7  2021  \n",
       "5  ENERO  VIERNES    14  2021  \n",
       "6  ENERO  VIERNES    17  2021  \n",
       "7  ENERO  VIERNES    17  2021  \n",
       "8  ENERO  VIERNES    21  2021  \n",
       "9  ENERO   SÁBADO     4  2022  "
      ]
     },
     "execution_count": 8,
     "metadata": {},
     "output_type": "execute_result"
    }
   ],
   "source": [
    "vehiculos_siniestros.head(10)"
   ]
  },
  {
   "cell_type": "code",
   "execution_count": 9,
   "id": "8155fabc",
   "metadata": {},
   "outputs": [
    {
     "name": "stdout",
     "output_type": "stream",
     "text": [
      "Index(['CÓDIGO SINIESTRO', 'FECHA SINIESTRO', 'HORA SINIESTRO',\n",
      "       'CLASE SINIESTRO', 'DEPARTAMENTO', 'PROVINCIA', 'DISTRITO',\n",
      "       'TIPO DE VÍA', 'COORDENADAS LATITUD', 'COORDENADAS  LONGITUD',\n",
      "       'CONDICIÓN CLIMÁTICA', 'SUPERFICIE DE CALZADA',\n",
      "       'CAUSA FACTOR PRINCIPAL', 'VEHÍCULO', 'MES', 'DÍA', 'HORA', 'AÑO'],\n",
      "      dtype='object')\n"
     ]
    }
   ],
   "source": [
    "print(vehiculos_siniestros.columns)"
   ]
  },
  {
   "cell_type": "code",
   "execution_count": 10,
   "id": "930658bc",
   "metadata": {},
   "outputs": [
    {
     "name": "stdout",
     "output_type": "stream",
     "text": [
      "New siniestros does have a size of: (8647, 18)\n"
     ]
    }
   ],
   "source": [
    "new_siniestros = vehiculos_siniestros.dropna()\n",
    "print(f'New siniestros does have a size of: {new_siniestros.shape}')"
   ]
  },
  {
   "cell_type": "code",
   "execution_count": 14,
   "id": "f2a90804",
   "metadata": {},
   "outputs": [
    {
     "name": "stdout",
     "output_type": "stream",
     "text": [
      "  CONDICIÓN CLIMÁTICA  CÓDIGO SINIESTRO\n",
      "0           DESPEJADO              7672\n",
      "6             SOLEADO               425\n",
      "2            LLUVIOSO               257\n",
      "5             NUBLADO               248\n",
      "4              NIEBLA                33\n",
      "7           VENTARRÓN                 6\n",
      "1           GRANIZADO                 4\n",
      "3              NEVADO                 2\n"
     ]
    },
    {
     "data": {
      "application/vnd.plotly.v1+json": {
       "config": {
        "plotlyServerURL": "https://plot.ly"
       },
       "data": [
        {
         "hovertemplate": "CONDICIÓN CLIMÁTICA=%{x}<br>CÓDIGO SINIESTRO=%{y}<extra></extra>",
         "legendgroup": "",
         "marker": {
          "color": "#636efa",
          "pattern": {
           "shape": ""
          }
         },
         "name": "",
         "orientation": "v",
         "showlegend": false,
         "textposition": "auto",
         "type": "bar",
         "x": [
          "DESPEJADO",
          "SOLEADO",
          "LLUVIOSO",
          "NUBLADO",
          "NIEBLA",
          "VENTARRÓN",
          "GRANIZADO",
          "NEVADO"
         ],
         "xaxis": "x",
         "y": {
          "bdata": "+B2pAQEB+AAhAAYABAACAA==",
          "dtype": "i2"
         },
         "yaxis": "y"
        }
       ],
       "layout": {
        "barmode": "relative",
        "legend": {
         "tracegroupgap": 0
        },
        "template": {
         "data": {
          "bar": [
           {
            "error_x": {
             "color": "#2a3f5f"
            },
            "error_y": {
             "color": "#2a3f5f"
            },
            "marker": {
             "line": {
              "color": "#E5ECF6",
              "width": 0.5
             },
             "pattern": {
              "fillmode": "overlay",
              "size": 10,
              "solidity": 0.2
             }
            },
            "type": "bar"
           }
          ],
          "barpolar": [
           {
            "marker": {
             "line": {
              "color": "#E5ECF6",
              "width": 0.5
             },
             "pattern": {
              "fillmode": "overlay",
              "size": 10,
              "solidity": 0.2
             }
            },
            "type": "barpolar"
           }
          ],
          "carpet": [
           {
            "aaxis": {
             "endlinecolor": "#2a3f5f",
             "gridcolor": "white",
             "linecolor": "white",
             "minorgridcolor": "white",
             "startlinecolor": "#2a3f5f"
            },
            "baxis": {
             "endlinecolor": "#2a3f5f",
             "gridcolor": "white",
             "linecolor": "white",
             "minorgridcolor": "white",
             "startlinecolor": "#2a3f5f"
            },
            "type": "carpet"
           }
          ],
          "choropleth": [
           {
            "colorbar": {
             "outlinewidth": 0,
             "ticks": ""
            },
            "type": "choropleth"
           }
          ],
          "contour": [
           {
            "colorbar": {
             "outlinewidth": 0,
             "ticks": ""
            },
            "colorscale": [
             [
              0,
              "#0d0887"
             ],
             [
              0.1111111111111111,
              "#46039f"
             ],
             [
              0.2222222222222222,
              "#7201a8"
             ],
             [
              0.3333333333333333,
              "#9c179e"
             ],
             [
              0.4444444444444444,
              "#bd3786"
             ],
             [
              0.5555555555555556,
              "#d8576b"
             ],
             [
              0.6666666666666666,
              "#ed7953"
             ],
             [
              0.7777777777777778,
              "#fb9f3a"
             ],
             [
              0.8888888888888888,
              "#fdca26"
             ],
             [
              1,
              "#f0f921"
             ]
            ],
            "type": "contour"
           }
          ],
          "contourcarpet": [
           {
            "colorbar": {
             "outlinewidth": 0,
             "ticks": ""
            },
            "type": "contourcarpet"
           }
          ],
          "heatmap": [
           {
            "colorbar": {
             "outlinewidth": 0,
             "ticks": ""
            },
            "colorscale": [
             [
              0,
              "#0d0887"
             ],
             [
              0.1111111111111111,
              "#46039f"
             ],
             [
              0.2222222222222222,
              "#7201a8"
             ],
             [
              0.3333333333333333,
              "#9c179e"
             ],
             [
              0.4444444444444444,
              "#bd3786"
             ],
             [
              0.5555555555555556,
              "#d8576b"
             ],
             [
              0.6666666666666666,
              "#ed7953"
             ],
             [
              0.7777777777777778,
              "#fb9f3a"
             ],
             [
              0.8888888888888888,
              "#fdca26"
             ],
             [
              1,
              "#f0f921"
             ]
            ],
            "type": "heatmap"
           }
          ],
          "histogram": [
           {
            "marker": {
             "pattern": {
              "fillmode": "overlay",
              "size": 10,
              "solidity": 0.2
             }
            },
            "type": "histogram"
           }
          ],
          "histogram2d": [
           {
            "colorbar": {
             "outlinewidth": 0,
             "ticks": ""
            },
            "colorscale": [
             [
              0,
              "#0d0887"
             ],
             [
              0.1111111111111111,
              "#46039f"
             ],
             [
              0.2222222222222222,
              "#7201a8"
             ],
             [
              0.3333333333333333,
              "#9c179e"
             ],
             [
              0.4444444444444444,
              "#bd3786"
             ],
             [
              0.5555555555555556,
              "#d8576b"
             ],
             [
              0.6666666666666666,
              "#ed7953"
             ],
             [
              0.7777777777777778,
              "#fb9f3a"
             ],
             [
              0.8888888888888888,
              "#fdca26"
             ],
             [
              1,
              "#f0f921"
             ]
            ],
            "type": "histogram2d"
           }
          ],
          "histogram2dcontour": [
           {
            "colorbar": {
             "outlinewidth": 0,
             "ticks": ""
            },
            "colorscale": [
             [
              0,
              "#0d0887"
             ],
             [
              0.1111111111111111,
              "#46039f"
             ],
             [
              0.2222222222222222,
              "#7201a8"
             ],
             [
              0.3333333333333333,
              "#9c179e"
             ],
             [
              0.4444444444444444,
              "#bd3786"
             ],
             [
              0.5555555555555556,
              "#d8576b"
             ],
             [
              0.6666666666666666,
              "#ed7953"
             ],
             [
              0.7777777777777778,
              "#fb9f3a"
             ],
             [
              0.8888888888888888,
              "#fdca26"
             ],
             [
              1,
              "#f0f921"
             ]
            ],
            "type": "histogram2dcontour"
           }
          ],
          "mesh3d": [
           {
            "colorbar": {
             "outlinewidth": 0,
             "ticks": ""
            },
            "type": "mesh3d"
           }
          ],
          "parcoords": [
           {
            "line": {
             "colorbar": {
              "outlinewidth": 0,
              "ticks": ""
             }
            },
            "type": "parcoords"
           }
          ],
          "pie": [
           {
            "automargin": true,
            "type": "pie"
           }
          ],
          "scatter": [
           {
            "fillpattern": {
             "fillmode": "overlay",
             "size": 10,
             "solidity": 0.2
            },
            "type": "scatter"
           }
          ],
          "scatter3d": [
           {
            "line": {
             "colorbar": {
              "outlinewidth": 0,
              "ticks": ""
             }
            },
            "marker": {
             "colorbar": {
              "outlinewidth": 0,
              "ticks": ""
             }
            },
            "type": "scatter3d"
           }
          ],
          "scattercarpet": [
           {
            "marker": {
             "colorbar": {
              "outlinewidth": 0,
              "ticks": ""
             }
            },
            "type": "scattercarpet"
           }
          ],
          "scattergeo": [
           {
            "marker": {
             "colorbar": {
              "outlinewidth": 0,
              "ticks": ""
             }
            },
            "type": "scattergeo"
           }
          ],
          "scattergl": [
           {
            "marker": {
             "colorbar": {
              "outlinewidth": 0,
              "ticks": ""
             }
            },
            "type": "scattergl"
           }
          ],
          "scattermap": [
           {
            "marker": {
             "colorbar": {
              "outlinewidth": 0,
              "ticks": ""
             }
            },
            "type": "scattermap"
           }
          ],
          "scattermapbox": [
           {
            "marker": {
             "colorbar": {
              "outlinewidth": 0,
              "ticks": ""
             }
            },
            "type": "scattermapbox"
           }
          ],
          "scatterpolar": [
           {
            "marker": {
             "colorbar": {
              "outlinewidth": 0,
              "ticks": ""
             }
            },
            "type": "scatterpolar"
           }
          ],
          "scatterpolargl": [
           {
            "marker": {
             "colorbar": {
              "outlinewidth": 0,
              "ticks": ""
             }
            },
            "type": "scatterpolargl"
           }
          ],
          "scatterternary": [
           {
            "marker": {
             "colorbar": {
              "outlinewidth": 0,
              "ticks": ""
             }
            },
            "type": "scatterternary"
           }
          ],
          "surface": [
           {
            "colorbar": {
             "outlinewidth": 0,
             "ticks": ""
            },
            "colorscale": [
             [
              0,
              "#0d0887"
             ],
             [
              0.1111111111111111,
              "#46039f"
             ],
             [
              0.2222222222222222,
              "#7201a8"
             ],
             [
              0.3333333333333333,
              "#9c179e"
             ],
             [
              0.4444444444444444,
              "#bd3786"
             ],
             [
              0.5555555555555556,
              "#d8576b"
             ],
             [
              0.6666666666666666,
              "#ed7953"
             ],
             [
              0.7777777777777778,
              "#fb9f3a"
             ],
             [
              0.8888888888888888,
              "#fdca26"
             ],
             [
              1,
              "#f0f921"
             ]
            ],
            "type": "surface"
           }
          ],
          "table": [
           {
            "cells": {
             "fill": {
              "color": "#EBF0F8"
             },
             "line": {
              "color": "white"
             }
            },
            "header": {
             "fill": {
              "color": "#C8D4E3"
             },
             "line": {
              "color": "white"
             }
            },
            "type": "table"
           }
          ]
         },
         "layout": {
          "annotationdefaults": {
           "arrowcolor": "#2a3f5f",
           "arrowhead": 0,
           "arrowwidth": 1
          },
          "autotypenumbers": "strict",
          "coloraxis": {
           "colorbar": {
            "outlinewidth": 0,
            "ticks": ""
           }
          },
          "colorscale": {
           "diverging": [
            [
             0,
             "#8e0152"
            ],
            [
             0.1,
             "#c51b7d"
            ],
            [
             0.2,
             "#de77ae"
            ],
            [
             0.3,
             "#f1b6da"
            ],
            [
             0.4,
             "#fde0ef"
            ],
            [
             0.5,
             "#f7f7f7"
            ],
            [
             0.6,
             "#e6f5d0"
            ],
            [
             0.7,
             "#b8e186"
            ],
            [
             0.8,
             "#7fbc41"
            ],
            [
             0.9,
             "#4d9221"
            ],
            [
             1,
             "#276419"
            ]
           ],
           "sequential": [
            [
             0,
             "#0d0887"
            ],
            [
             0.1111111111111111,
             "#46039f"
            ],
            [
             0.2222222222222222,
             "#7201a8"
            ],
            [
             0.3333333333333333,
             "#9c179e"
            ],
            [
             0.4444444444444444,
             "#bd3786"
            ],
            [
             0.5555555555555556,
             "#d8576b"
            ],
            [
             0.6666666666666666,
             "#ed7953"
            ],
            [
             0.7777777777777778,
             "#fb9f3a"
            ],
            [
             0.8888888888888888,
             "#fdca26"
            ],
            [
             1,
             "#f0f921"
            ]
           ],
           "sequentialminus": [
            [
             0,
             "#0d0887"
            ],
            [
             0.1111111111111111,
             "#46039f"
            ],
            [
             0.2222222222222222,
             "#7201a8"
            ],
            [
             0.3333333333333333,
             "#9c179e"
            ],
            [
             0.4444444444444444,
             "#bd3786"
            ],
            [
             0.5555555555555556,
             "#d8576b"
            ],
            [
             0.6666666666666666,
             "#ed7953"
            ],
            [
             0.7777777777777778,
             "#fb9f3a"
            ],
            [
             0.8888888888888888,
             "#fdca26"
            ],
            [
             1,
             "#f0f921"
            ]
           ]
          },
          "colorway": [
           "#636efa",
           "#EF553B",
           "#00cc96",
           "#ab63fa",
           "#FFA15A",
           "#19d3f3",
           "#FF6692",
           "#B6E880",
           "#FF97FF",
           "#FECB52"
          ],
          "font": {
           "color": "#2a3f5f"
          },
          "geo": {
           "bgcolor": "white",
           "lakecolor": "white",
           "landcolor": "#E5ECF6",
           "showlakes": true,
           "showland": true,
           "subunitcolor": "white"
          },
          "hoverlabel": {
           "align": "left"
          },
          "hovermode": "closest",
          "mapbox": {
           "style": "light"
          },
          "paper_bgcolor": "white",
          "plot_bgcolor": "#E5ECF6",
          "polar": {
           "angularaxis": {
            "gridcolor": "white",
            "linecolor": "white",
            "ticks": ""
           },
           "bgcolor": "#E5ECF6",
           "radialaxis": {
            "gridcolor": "white",
            "linecolor": "white",
            "ticks": ""
           }
          },
          "scene": {
           "xaxis": {
            "backgroundcolor": "#E5ECF6",
            "gridcolor": "white",
            "gridwidth": 2,
            "linecolor": "white",
            "showbackground": true,
            "ticks": "",
            "zerolinecolor": "white"
           },
           "yaxis": {
            "backgroundcolor": "#E5ECF6",
            "gridcolor": "white",
            "gridwidth": 2,
            "linecolor": "white",
            "showbackground": true,
            "ticks": "",
            "zerolinecolor": "white"
           },
           "zaxis": {
            "backgroundcolor": "#E5ECF6",
            "gridcolor": "white",
            "gridwidth": 2,
            "linecolor": "white",
            "showbackground": true,
            "ticks": "",
            "zerolinecolor": "white"
           }
          },
          "shapedefaults": {
           "line": {
            "color": "#2a3f5f"
           }
          },
          "ternary": {
           "aaxis": {
            "gridcolor": "white",
            "linecolor": "white",
            "ticks": ""
           },
           "baxis": {
            "gridcolor": "white",
            "linecolor": "white",
            "ticks": ""
           },
           "bgcolor": "#E5ECF6",
           "caxis": {
            "gridcolor": "white",
            "linecolor": "white",
            "ticks": ""
           }
          },
          "title": {
           "x": 0.05
          },
          "xaxis": {
           "automargin": true,
           "gridcolor": "white",
           "linecolor": "white",
           "ticks": "",
           "title": {
            "standoff": 15
           },
           "zerolinecolor": "white",
           "zerolinewidth": 2
          },
          "yaxis": {
           "automargin": true,
           "gridcolor": "white",
           "linecolor": "white",
           "ticks": "",
           "title": {
            "standoff": 15
           },
           "zerolinecolor": "white",
           "zerolinewidth": 2
          }
         }
        },
        "title": {
         "text": "Siniestros por Condición Climática"
        },
        "xaxis": {
         "anchor": "y",
         "domain": [
          0,
          1
         ],
         "title": {
          "text": "CONDICIÓN CLIMÁTICA"
         }
        },
        "yaxis": {
         "anchor": "x",
         "domain": [
          0,
          1
         ],
         "title": {
          "text": "CÓDIGO SINIESTRO"
         }
        }
       }
      }
     },
     "metadata": {},
     "output_type": "display_data"
    },
    {
     "name": "stdout",
     "output_type": "stream",
     "text": [
      "0    DESPEJADO\n",
      "6      SOLEADO\n",
      "2     LLUVIOSO\n",
      "5      NUBLADO\n",
      "4       NIEBLA\n",
      "Name: CONDICIÓN CLIMÁTICA, dtype: object\n"
     ]
    }
   ],
   "source": [
    "# gráfico de barras de condición climática\n",
    "siniestros_by_weather = new_siniestros.groupby('CONDICIÓN CLIMÁTICA')['CÓDIGO SINIESTRO'].count().reset_index().sort_values(by = 'CÓDIGO SINIESTRO', ascending = False)\n",
    "print(siniestros_by_weather)\n",
    "\n",
    "fig = px.bar(siniestros_by_weather, x='CONDICIÓN CLIMÁTICA', y='CÓDIGO SINIESTRO', title='Siniestros por Condición Climática')\n",
    "fig.show()\n",
    "\n",
    "# extraer top 5 condiciones climáticas más frecuentes\n",
    "top_condiciones = siniestros_by_weather['CONDICIÓN CLIMÁTICA'].head(5)\n",
    "print(top_condiciones)"
   ]
  },
  {
   "cell_type": "code",
   "execution_count": 19,
   "id": "1002ba24",
   "metadata": {},
   "outputs": [
    {
     "name": "stdout",
     "output_type": "stream",
     "text": [
      "CONDICIÓN CLIMÁTICA  CLASE SINIESTRO       \n",
      "DESPEJADO            ATROPELLO                 1236\n",
      "                     ATROPELLO FUGA             584\n",
      "                     CAÍDA DE PASAJERO           69\n",
      "                     CHOQUE                    3897\n",
      "                     CHOQUE CON OBJETO FIJO      94\n",
      "                     CHOQUE FUGA                331\n",
      "                     DESPISTE                  1529\n",
      "                     ESPECIAL                    58\n",
      "                     FERROVIARIO                  4\n",
      "                     INCENDIO                     1\n",
      "                     VOLCADURA                  197\n",
      "GRANIZADO            CHOQUE                       2\n",
      "                     DESPISTE                     2\n",
      "LLUVIOSO             ATROPELLO                   14\n",
      "                     ATROPELLO FUGA              18\n",
      "                     CAÍDA DE PASAJERO            1\n",
      "                     CHOQUE                     112\n",
      "                     CHOQUE CON OBJETO FIJO       2\n",
      "                     CHOQUE FUGA                  8\n",
      "                     DESPISTE                   107\n",
      "                     ESPECIAL                     7\n",
      "                     FERROVIARIO                  2\n",
      "                     VOLCADURA                   13\n",
      "NEVADO               CHOQUE                       2\n",
      "NIEBLA               ATROPELLO                    1\n",
      "                     ATROPELLO FUGA               3\n",
      "                     CHOQUE                      12\n",
      "                     DESPISTE                    17\n",
      "NUBLADO              ATROPELLO                   27\n",
      "                     ATROPELLO FUGA              15\n",
      "                     CAÍDA DE PASAJERO            1\n",
      "                     CHOQUE                     121\n",
      "                     CHOQUE CON OBJETO FIJO       2\n",
      "                     CHOQUE FUGA                 15\n",
      "                     DESPISTE                    67\n",
      "                     ESPECIAL                     1\n",
      "                     VOLCADURA                    4\n",
      "SOLEADO              ATROPELLO                   73\n",
      "                     ATROPELLO FUGA              10\n",
      "                     CAÍDA DE PASAJERO            9\n",
      "                     CHOQUE                     220\n",
      "                     CHOQUE CON OBJETO FIJO       9\n",
      "                     CHOQUE FUGA                 12\n",
      "                     DESPISTE                    80\n",
      "                     ESPECIAL                    11\n",
      "                     VOLCADURA                   17\n",
      "VENTARRÓN            CHOQUE                       4\n",
      "                     CHOQUE FUGA                  2\n",
      "Name: CÓDIGO SINIESTRO, dtype: int64\n",
      "   CONDICIÓN CLIMÁTICA         CLASE SINIESTRO  CÓDIGO SINIESTRO\n",
      "0            DESPEJADO               ATROPELLO              1236\n",
      "1            DESPEJADO          ATROPELLO FUGA               584\n",
      "2            DESPEJADO       CAÍDA DE PASAJERO                69\n",
      "3            DESPEJADO                  CHOQUE              3897\n",
      "4            DESPEJADO  CHOQUE CON OBJETO FIJO                94\n",
      "5            DESPEJADO             CHOQUE FUGA               331\n",
      "6            DESPEJADO                DESPISTE              1529\n",
      "7            DESPEJADO                ESPECIAL                58\n",
      "8            DESPEJADO             FERROVIARIO                 4\n",
      "9            DESPEJADO                INCENDIO                 1\n",
      "10           DESPEJADO               VOLCADURA               197\n",
      "11             SOLEADO               ATROPELLO                73\n",
      "12             SOLEADO          ATROPELLO FUGA                10\n",
      "13             SOLEADO       CAÍDA DE PASAJERO                 9\n",
      "14             SOLEADO                  CHOQUE               220\n",
      "15             SOLEADO  CHOQUE CON OBJETO FIJO                 9\n",
      "16             SOLEADO             CHOQUE FUGA                12\n",
      "17             SOLEADO                DESPISTE                80\n",
      "18             SOLEADO                ESPECIAL                11\n",
      "19             SOLEADO               VOLCADURA                17\n",
      "20            LLUVIOSO               ATROPELLO                14\n",
      "21            LLUVIOSO          ATROPELLO FUGA                18\n",
      "22            LLUVIOSO       CAÍDA DE PASAJERO                 1\n",
      "23            LLUVIOSO                  CHOQUE               112\n",
      "24            LLUVIOSO  CHOQUE CON OBJETO FIJO                 2\n",
      "25            LLUVIOSO             CHOQUE FUGA                 8\n",
      "26            LLUVIOSO                DESPISTE               107\n",
      "27            LLUVIOSO                ESPECIAL                 7\n",
      "28            LLUVIOSO             FERROVIARIO                 2\n",
      "29            LLUVIOSO               VOLCADURA                13\n",
      "30             NUBLADO               ATROPELLO                27\n",
      "31             NUBLADO          ATROPELLO FUGA                15\n",
      "32             NUBLADO       CAÍDA DE PASAJERO                 1\n",
      "33             NUBLADO                  CHOQUE               121\n",
      "34             NUBLADO  CHOQUE CON OBJETO FIJO                 2\n",
      "35             NUBLADO             CHOQUE FUGA                15\n",
      "36             NUBLADO                DESPISTE                67\n",
      "37             NUBLADO                ESPECIAL                 1\n",
      "38             NUBLADO               VOLCADURA                 4\n",
      "39              NIEBLA               ATROPELLO                 1\n",
      "40              NIEBLA          ATROPELLO FUGA                 3\n",
      "41              NIEBLA                  CHOQUE                12\n",
      "42              NIEBLA                DESPISTE                17\n"
     ]
    },
    {
     "data": {
      "application/vnd.plotly.v1+json": {
       "config": {
        "plotlyServerURL": "https://plot.ly"
       },
       "data": [
        {
         "hovertemplate": "CLASE SINIESTRO=ATROPELLO<br>CONDICIÓN CLIMÁTICA=%{x}<br>CÓDIGO SINIESTRO=%{y}<extra></extra>",
         "legendgroup": "ATROPELLO",
         "marker": {
          "color": "#636efa",
          "pattern": {
           "shape": ""
          }
         },
         "name": "ATROPELLO",
         "orientation": "v",
         "showlegend": true,
         "textposition": "auto",
         "type": "bar",
         "x": [
          "DESPEJADO",
          "SOLEADO",
          "LLUVIOSO",
          "NUBLADO",
          "NIEBLA"
         ],
         "xaxis": "x",
         "y": {
          "bdata": "1ARJAA4AGwABAA==",
          "dtype": "i2"
         },
         "yaxis": "y"
        },
        {
         "hovertemplate": "CLASE SINIESTRO=ATROPELLO FUGA<br>CONDICIÓN CLIMÁTICA=%{x}<br>CÓDIGO SINIESTRO=%{y}<extra></extra>",
         "legendgroup": "ATROPELLO FUGA",
         "marker": {
          "color": "#EF553B",
          "pattern": {
           "shape": ""
          }
         },
         "name": "ATROPELLO FUGA",
         "orientation": "v",
         "showlegend": true,
         "textposition": "auto",
         "type": "bar",
         "x": [
          "DESPEJADO",
          "SOLEADO",
          "LLUVIOSO",
          "NUBLADO",
          "NIEBLA"
         ],
         "xaxis": "x",
         "y": {
          "bdata": "SAIKABIADwADAA==",
          "dtype": "i2"
         },
         "yaxis": "y"
        },
        {
         "hovertemplate": "CLASE SINIESTRO=CAÍDA DE PASAJERO<br>CONDICIÓN CLIMÁTICA=%{x}<br>CÓDIGO SINIESTRO=%{y}<extra></extra>",
         "legendgroup": "CAÍDA DE PASAJERO",
         "marker": {
          "color": "#00cc96",
          "pattern": {
           "shape": ""
          }
         },
         "name": "CAÍDA DE PASAJERO",
         "orientation": "v",
         "showlegend": true,
         "textposition": "auto",
         "type": "bar",
         "x": [
          "DESPEJADO",
          "SOLEADO",
          "LLUVIOSO",
          "NUBLADO"
         ],
         "xaxis": "x",
         "y": {
          "bdata": "RQkBAQ==",
          "dtype": "i1"
         },
         "yaxis": "y"
        },
        {
         "hovertemplate": "CLASE SINIESTRO=CHOQUE<br>CONDICIÓN CLIMÁTICA=%{x}<br>CÓDIGO SINIESTRO=%{y}<extra></extra>",
         "legendgroup": "CHOQUE",
         "marker": {
          "color": "#ab63fa",
          "pattern": {
           "shape": ""
          }
         },
         "name": "CHOQUE",
         "orientation": "v",
         "showlegend": true,
         "textposition": "auto",
         "type": "bar",
         "x": [
          "DESPEJADO",
          "SOLEADO",
          "LLUVIOSO",
          "NUBLADO",
          "NIEBLA"
         ],
         "xaxis": "x",
         "y": {
          "bdata": "OQ/cAHAAeQAMAA==",
          "dtype": "i2"
         },
         "yaxis": "y"
        },
        {
         "hovertemplate": "CLASE SINIESTRO=CHOQUE CON OBJETO FIJO<br>CONDICIÓN CLIMÁTICA=%{x}<br>CÓDIGO SINIESTRO=%{y}<extra></extra>",
         "legendgroup": "CHOQUE CON OBJETO FIJO",
         "marker": {
          "color": "#FFA15A",
          "pattern": {
           "shape": ""
          }
         },
         "name": "CHOQUE CON OBJETO FIJO",
         "orientation": "v",
         "showlegend": true,
         "textposition": "auto",
         "type": "bar",
         "x": [
          "DESPEJADO",
          "SOLEADO",
          "LLUVIOSO",
          "NUBLADO"
         ],
         "xaxis": "x",
         "y": {
          "bdata": "XgkCAg==",
          "dtype": "i1"
         },
         "yaxis": "y"
        },
        {
         "hovertemplate": "CLASE SINIESTRO=CHOQUE FUGA<br>CONDICIÓN CLIMÁTICA=%{x}<br>CÓDIGO SINIESTRO=%{y}<extra></extra>",
         "legendgroup": "CHOQUE FUGA",
         "marker": {
          "color": "#19d3f3",
          "pattern": {
           "shape": ""
          }
         },
         "name": "CHOQUE FUGA",
         "orientation": "v",
         "showlegend": true,
         "textposition": "auto",
         "type": "bar",
         "x": [
          "DESPEJADO",
          "SOLEADO",
          "LLUVIOSO",
          "NUBLADO"
         ],
         "xaxis": "x",
         "y": {
          "bdata": "SwEMAAgADwA=",
          "dtype": "i2"
         },
         "yaxis": "y"
        },
        {
         "hovertemplate": "CLASE SINIESTRO=DESPISTE<br>CONDICIÓN CLIMÁTICA=%{x}<br>CÓDIGO SINIESTRO=%{y}<extra></extra>",
         "legendgroup": "DESPISTE",
         "marker": {
          "color": "#FF6692",
          "pattern": {
           "shape": ""
          }
         },
         "name": "DESPISTE",
         "orientation": "v",
         "showlegend": true,
         "textposition": "auto",
         "type": "bar",
         "x": [
          "DESPEJADO",
          "SOLEADO",
          "LLUVIOSO",
          "NUBLADO",
          "NIEBLA"
         ],
         "xaxis": "x",
         "y": {
          "bdata": "+QVQAGsAQwARAA==",
          "dtype": "i2"
         },
         "yaxis": "y"
        },
        {
         "hovertemplate": "CLASE SINIESTRO=ESPECIAL<br>CONDICIÓN CLIMÁTICA=%{x}<br>CÓDIGO SINIESTRO=%{y}<extra></extra>",
         "legendgroup": "ESPECIAL",
         "marker": {
          "color": "#B6E880",
          "pattern": {
           "shape": ""
          }
         },
         "name": "ESPECIAL",
         "orientation": "v",
         "showlegend": true,
         "textposition": "auto",
         "type": "bar",
         "x": [
          "DESPEJADO",
          "SOLEADO",
          "LLUVIOSO",
          "NUBLADO"
         ],
         "xaxis": "x",
         "y": {
          "bdata": "OgsHAQ==",
          "dtype": "i1"
         },
         "yaxis": "y"
        },
        {
         "hovertemplate": "CLASE SINIESTRO=FERROVIARIO<br>CONDICIÓN CLIMÁTICA=%{x}<br>CÓDIGO SINIESTRO=%{y}<extra></extra>",
         "legendgroup": "FERROVIARIO",
         "marker": {
          "color": "#FF97FF",
          "pattern": {
           "shape": ""
          }
         },
         "name": "FERROVIARIO",
         "orientation": "v",
         "showlegend": true,
         "textposition": "auto",
         "type": "bar",
         "x": [
          "DESPEJADO",
          "LLUVIOSO"
         ],
         "xaxis": "x",
         "y": {
          "bdata": "BAI=",
          "dtype": "i1"
         },
         "yaxis": "y"
        },
        {
         "hovertemplate": "CLASE SINIESTRO=INCENDIO<br>CONDICIÓN CLIMÁTICA=%{x}<br>CÓDIGO SINIESTRO=%{y}<extra></extra>",
         "legendgroup": "INCENDIO",
         "marker": {
          "color": "#FECB52",
          "pattern": {
           "shape": ""
          }
         },
         "name": "INCENDIO",
         "orientation": "v",
         "showlegend": true,
         "textposition": "auto",
         "type": "bar",
         "x": [
          "DESPEJADO"
         ],
         "xaxis": "x",
         "y": {
          "bdata": "AQ==",
          "dtype": "i1"
         },
         "yaxis": "y"
        },
        {
         "hovertemplate": "CLASE SINIESTRO=VOLCADURA<br>CONDICIÓN CLIMÁTICA=%{x}<br>CÓDIGO SINIESTRO=%{y}<extra></extra>",
         "legendgroup": "VOLCADURA",
         "marker": {
          "color": "#636efa",
          "pattern": {
           "shape": ""
          }
         },
         "name": "VOLCADURA",
         "orientation": "v",
         "showlegend": true,
         "textposition": "auto",
         "type": "bar",
         "x": [
          "DESPEJADO",
          "SOLEADO",
          "LLUVIOSO",
          "NUBLADO"
         ],
         "xaxis": "x",
         "y": {
          "bdata": "xQARAA0ABAA=",
          "dtype": "i2"
         },
         "yaxis": "y"
        }
       ],
       "layout": {
        "barmode": "relative",
        "legend": {
         "title": {
          "text": "CLASE SINIESTRO"
         },
         "tracegroupgap": 0
        },
        "template": {
         "data": {
          "bar": [
           {
            "error_x": {
             "color": "#2a3f5f"
            },
            "error_y": {
             "color": "#2a3f5f"
            },
            "marker": {
             "line": {
              "color": "#E5ECF6",
              "width": 0.5
             },
             "pattern": {
              "fillmode": "overlay",
              "size": 10,
              "solidity": 0.2
             }
            },
            "type": "bar"
           }
          ],
          "barpolar": [
           {
            "marker": {
             "line": {
              "color": "#E5ECF6",
              "width": 0.5
             },
             "pattern": {
              "fillmode": "overlay",
              "size": 10,
              "solidity": 0.2
             }
            },
            "type": "barpolar"
           }
          ],
          "carpet": [
           {
            "aaxis": {
             "endlinecolor": "#2a3f5f",
             "gridcolor": "white",
             "linecolor": "white",
             "minorgridcolor": "white",
             "startlinecolor": "#2a3f5f"
            },
            "baxis": {
             "endlinecolor": "#2a3f5f",
             "gridcolor": "white",
             "linecolor": "white",
             "minorgridcolor": "white",
             "startlinecolor": "#2a3f5f"
            },
            "type": "carpet"
           }
          ],
          "choropleth": [
           {
            "colorbar": {
             "outlinewidth": 0,
             "ticks": ""
            },
            "type": "choropleth"
           }
          ],
          "contour": [
           {
            "colorbar": {
             "outlinewidth": 0,
             "ticks": ""
            },
            "colorscale": [
             [
              0,
              "#0d0887"
             ],
             [
              0.1111111111111111,
              "#46039f"
             ],
             [
              0.2222222222222222,
              "#7201a8"
             ],
             [
              0.3333333333333333,
              "#9c179e"
             ],
             [
              0.4444444444444444,
              "#bd3786"
             ],
             [
              0.5555555555555556,
              "#d8576b"
             ],
             [
              0.6666666666666666,
              "#ed7953"
             ],
             [
              0.7777777777777778,
              "#fb9f3a"
             ],
             [
              0.8888888888888888,
              "#fdca26"
             ],
             [
              1,
              "#f0f921"
             ]
            ],
            "type": "contour"
           }
          ],
          "contourcarpet": [
           {
            "colorbar": {
             "outlinewidth": 0,
             "ticks": ""
            },
            "type": "contourcarpet"
           }
          ],
          "heatmap": [
           {
            "colorbar": {
             "outlinewidth": 0,
             "ticks": ""
            },
            "colorscale": [
             [
              0,
              "#0d0887"
             ],
             [
              0.1111111111111111,
              "#46039f"
             ],
             [
              0.2222222222222222,
              "#7201a8"
             ],
             [
              0.3333333333333333,
              "#9c179e"
             ],
             [
              0.4444444444444444,
              "#bd3786"
             ],
             [
              0.5555555555555556,
              "#d8576b"
             ],
             [
              0.6666666666666666,
              "#ed7953"
             ],
             [
              0.7777777777777778,
              "#fb9f3a"
             ],
             [
              0.8888888888888888,
              "#fdca26"
             ],
             [
              1,
              "#f0f921"
             ]
            ],
            "type": "heatmap"
           }
          ],
          "histogram": [
           {
            "marker": {
             "pattern": {
              "fillmode": "overlay",
              "size": 10,
              "solidity": 0.2
             }
            },
            "type": "histogram"
           }
          ],
          "histogram2d": [
           {
            "colorbar": {
             "outlinewidth": 0,
             "ticks": ""
            },
            "colorscale": [
             [
              0,
              "#0d0887"
             ],
             [
              0.1111111111111111,
              "#46039f"
             ],
             [
              0.2222222222222222,
              "#7201a8"
             ],
             [
              0.3333333333333333,
              "#9c179e"
             ],
             [
              0.4444444444444444,
              "#bd3786"
             ],
             [
              0.5555555555555556,
              "#d8576b"
             ],
             [
              0.6666666666666666,
              "#ed7953"
             ],
             [
              0.7777777777777778,
              "#fb9f3a"
             ],
             [
              0.8888888888888888,
              "#fdca26"
             ],
             [
              1,
              "#f0f921"
             ]
            ],
            "type": "histogram2d"
           }
          ],
          "histogram2dcontour": [
           {
            "colorbar": {
             "outlinewidth": 0,
             "ticks": ""
            },
            "colorscale": [
             [
              0,
              "#0d0887"
             ],
             [
              0.1111111111111111,
              "#46039f"
             ],
             [
              0.2222222222222222,
              "#7201a8"
             ],
             [
              0.3333333333333333,
              "#9c179e"
             ],
             [
              0.4444444444444444,
              "#bd3786"
             ],
             [
              0.5555555555555556,
              "#d8576b"
             ],
             [
              0.6666666666666666,
              "#ed7953"
             ],
             [
              0.7777777777777778,
              "#fb9f3a"
             ],
             [
              0.8888888888888888,
              "#fdca26"
             ],
             [
              1,
              "#f0f921"
             ]
            ],
            "type": "histogram2dcontour"
           }
          ],
          "mesh3d": [
           {
            "colorbar": {
             "outlinewidth": 0,
             "ticks": ""
            },
            "type": "mesh3d"
           }
          ],
          "parcoords": [
           {
            "line": {
             "colorbar": {
              "outlinewidth": 0,
              "ticks": ""
             }
            },
            "type": "parcoords"
           }
          ],
          "pie": [
           {
            "automargin": true,
            "type": "pie"
           }
          ],
          "scatter": [
           {
            "fillpattern": {
             "fillmode": "overlay",
             "size": 10,
             "solidity": 0.2
            },
            "type": "scatter"
           }
          ],
          "scatter3d": [
           {
            "line": {
             "colorbar": {
              "outlinewidth": 0,
              "ticks": ""
             }
            },
            "marker": {
             "colorbar": {
              "outlinewidth": 0,
              "ticks": ""
             }
            },
            "type": "scatter3d"
           }
          ],
          "scattercarpet": [
           {
            "marker": {
             "colorbar": {
              "outlinewidth": 0,
              "ticks": ""
             }
            },
            "type": "scattercarpet"
           }
          ],
          "scattergeo": [
           {
            "marker": {
             "colorbar": {
              "outlinewidth": 0,
              "ticks": ""
             }
            },
            "type": "scattergeo"
           }
          ],
          "scattergl": [
           {
            "marker": {
             "colorbar": {
              "outlinewidth": 0,
              "ticks": ""
             }
            },
            "type": "scattergl"
           }
          ],
          "scattermap": [
           {
            "marker": {
             "colorbar": {
              "outlinewidth": 0,
              "ticks": ""
             }
            },
            "type": "scattermap"
           }
          ],
          "scattermapbox": [
           {
            "marker": {
             "colorbar": {
              "outlinewidth": 0,
              "ticks": ""
             }
            },
            "type": "scattermapbox"
           }
          ],
          "scatterpolar": [
           {
            "marker": {
             "colorbar": {
              "outlinewidth": 0,
              "ticks": ""
             }
            },
            "type": "scatterpolar"
           }
          ],
          "scatterpolargl": [
           {
            "marker": {
             "colorbar": {
              "outlinewidth": 0,
              "ticks": ""
             }
            },
            "type": "scatterpolargl"
           }
          ],
          "scatterternary": [
           {
            "marker": {
             "colorbar": {
              "outlinewidth": 0,
              "ticks": ""
             }
            },
            "type": "scatterternary"
           }
          ],
          "surface": [
           {
            "colorbar": {
             "outlinewidth": 0,
             "ticks": ""
            },
            "colorscale": [
             [
              0,
              "#0d0887"
             ],
             [
              0.1111111111111111,
              "#46039f"
             ],
             [
              0.2222222222222222,
              "#7201a8"
             ],
             [
              0.3333333333333333,
              "#9c179e"
             ],
             [
              0.4444444444444444,
              "#bd3786"
             ],
             [
              0.5555555555555556,
              "#d8576b"
             ],
             [
              0.6666666666666666,
              "#ed7953"
             ],
             [
              0.7777777777777778,
              "#fb9f3a"
             ],
             [
              0.8888888888888888,
              "#fdca26"
             ],
             [
              1,
              "#f0f921"
             ]
            ],
            "type": "surface"
           }
          ],
          "table": [
           {
            "cells": {
             "fill": {
              "color": "#EBF0F8"
             },
             "line": {
              "color": "white"
             }
            },
            "header": {
             "fill": {
              "color": "#C8D4E3"
             },
             "line": {
              "color": "white"
             }
            },
            "type": "table"
           }
          ]
         },
         "layout": {
          "annotationdefaults": {
           "arrowcolor": "#2a3f5f",
           "arrowhead": 0,
           "arrowwidth": 1
          },
          "autotypenumbers": "strict",
          "coloraxis": {
           "colorbar": {
            "outlinewidth": 0,
            "ticks": ""
           }
          },
          "colorscale": {
           "diverging": [
            [
             0,
             "#8e0152"
            ],
            [
             0.1,
             "#c51b7d"
            ],
            [
             0.2,
             "#de77ae"
            ],
            [
             0.3,
             "#f1b6da"
            ],
            [
             0.4,
             "#fde0ef"
            ],
            [
             0.5,
             "#f7f7f7"
            ],
            [
             0.6,
             "#e6f5d0"
            ],
            [
             0.7,
             "#b8e186"
            ],
            [
             0.8,
             "#7fbc41"
            ],
            [
             0.9,
             "#4d9221"
            ],
            [
             1,
             "#276419"
            ]
           ],
           "sequential": [
            [
             0,
             "#0d0887"
            ],
            [
             0.1111111111111111,
             "#46039f"
            ],
            [
             0.2222222222222222,
             "#7201a8"
            ],
            [
             0.3333333333333333,
             "#9c179e"
            ],
            [
             0.4444444444444444,
             "#bd3786"
            ],
            [
             0.5555555555555556,
             "#d8576b"
            ],
            [
             0.6666666666666666,
             "#ed7953"
            ],
            [
             0.7777777777777778,
             "#fb9f3a"
            ],
            [
             0.8888888888888888,
             "#fdca26"
            ],
            [
             1,
             "#f0f921"
            ]
           ],
           "sequentialminus": [
            [
             0,
             "#0d0887"
            ],
            [
             0.1111111111111111,
             "#46039f"
            ],
            [
             0.2222222222222222,
             "#7201a8"
            ],
            [
             0.3333333333333333,
             "#9c179e"
            ],
            [
             0.4444444444444444,
             "#bd3786"
            ],
            [
             0.5555555555555556,
             "#d8576b"
            ],
            [
             0.6666666666666666,
             "#ed7953"
            ],
            [
             0.7777777777777778,
             "#fb9f3a"
            ],
            [
             0.8888888888888888,
             "#fdca26"
            ],
            [
             1,
             "#f0f921"
            ]
           ]
          },
          "colorway": [
           "#636efa",
           "#EF553B",
           "#00cc96",
           "#ab63fa",
           "#FFA15A",
           "#19d3f3",
           "#FF6692",
           "#B6E880",
           "#FF97FF",
           "#FECB52"
          ],
          "font": {
           "color": "#2a3f5f"
          },
          "geo": {
           "bgcolor": "white",
           "lakecolor": "white",
           "landcolor": "#E5ECF6",
           "showlakes": true,
           "showland": true,
           "subunitcolor": "white"
          },
          "hoverlabel": {
           "align": "left"
          },
          "hovermode": "closest",
          "mapbox": {
           "style": "light"
          },
          "paper_bgcolor": "white",
          "plot_bgcolor": "#E5ECF6",
          "polar": {
           "angularaxis": {
            "gridcolor": "white",
            "linecolor": "white",
            "ticks": ""
           },
           "bgcolor": "#E5ECF6",
           "radialaxis": {
            "gridcolor": "white",
            "linecolor": "white",
            "ticks": ""
           }
          },
          "scene": {
           "xaxis": {
            "backgroundcolor": "#E5ECF6",
            "gridcolor": "white",
            "gridwidth": 2,
            "linecolor": "white",
            "showbackground": true,
            "ticks": "",
            "zerolinecolor": "white"
           },
           "yaxis": {
            "backgroundcolor": "#E5ECF6",
            "gridcolor": "white",
            "gridwidth": 2,
            "linecolor": "white",
            "showbackground": true,
            "ticks": "",
            "zerolinecolor": "white"
           },
           "zaxis": {
            "backgroundcolor": "#E5ECF6",
            "gridcolor": "white",
            "gridwidth": 2,
            "linecolor": "white",
            "showbackground": true,
            "ticks": "",
            "zerolinecolor": "white"
           }
          },
          "shapedefaults": {
           "line": {
            "color": "#2a3f5f"
           }
          },
          "ternary": {
           "aaxis": {
            "gridcolor": "white",
            "linecolor": "white",
            "ticks": ""
           },
           "baxis": {
            "gridcolor": "white",
            "linecolor": "white",
            "ticks": ""
           },
           "bgcolor": "#E5ECF6",
           "caxis": {
            "gridcolor": "white",
            "linecolor": "white",
            "ticks": ""
           }
          },
          "title": {
           "x": 0.05
          },
          "xaxis": {
           "automargin": true,
           "gridcolor": "white",
           "linecolor": "white",
           "ticks": "",
           "title": {
            "standoff": 15
           },
           "zerolinecolor": "white",
           "zerolinewidth": 2
          },
          "yaxis": {
           "automargin": true,
           "gridcolor": "white",
           "linecolor": "white",
           "ticks": "",
           "title": {
            "standoff": 15
           },
           "zerolinecolor": "white",
           "zerolinewidth": 2
          }
         }
        },
        "title": {
         "text": "Siniestros por Clase y Condición Climática"
        },
        "xaxis": {
         "anchor": "y",
         "domain": [
          0,
          1
         ],
         "title": {
          "text": "CONDICIÓN CLIMÁTICA"
         }
        },
        "yaxis": {
         "anchor": "x",
         "domain": [
          0,
          1
         ],
         "title": {
          "text": "CÓDIGO SINIESTRO"
         }
        }
       }
      }
     },
     "metadata": {},
     "output_type": "display_data"
    }
   ],
   "source": [
    "# siniestros por clase\n",
    "siniestros_por_condición = vehiculos_siniestros.groupby(['CONDICIÓN CLIMÁTICA', 'CLASE SINIESTRO'])['CÓDIGO SINIESTRO'].count()\n",
    "print(siniestros_por_condición)\n",
    "siniestros_por_condición = siniestros_por_condición.loc[top_condiciones].reset_index()\n",
    "print(siniestros_por_condición)\n",
    "\n",
    "# gráfico de barras de siniestros por clase y condición climática\n",
    "fig2 = px.bar(siniestros_por_condición, x='CONDICIÓN CLIMÁTICA', y='CÓDIGO SINIESTRO', color='CLASE SINIESTRO', title='Siniestros por Clase y Condición Climática')\n",
    "fig2.show()"
   ]
  },
  {
   "cell_type": "code",
   "execution_count": 31,
   "id": "a074f59a",
   "metadata": {},
   "outputs": [
    {
     "data": {
      "application/vnd.plotly.v1+json": {
       "config": {
        "plotlyServerURL": "https://plot.ly"
       },
       "data": [
        {
         "coloraxis": "coloraxis",
         "hovertemplate": "HORA SINIESTRO: %{x}<br>DEPARTAMENTO: %{y}<br>color: %{z}<extra></extra>",
         "name": "0",
         "texttemplate": "%{z}",
         "type": "heatmap",
         "x": [],
         "xaxis": "x",
         "y": [],
         "yaxis": "y",
         "z": []
        }
       ],
       "layout": {
        "coloraxis": {
         "colorscale": [
          [
           0,
           "#440154"
          ],
          [
           0.1111111111111111,
           "#482878"
          ],
          [
           0.2222222222222222,
           "#3e4989"
          ],
          [
           0.3333333333333333,
           "#31688e"
          ],
          [
           0.4444444444444444,
           "#26828e"
          ],
          [
           0.5555555555555556,
           "#1f9e89"
          ],
          [
           0.6666666666666666,
           "#35b779"
          ],
          [
           0.7777777777777778,
           "#6ece58"
          ],
          [
           0.8888888888888888,
           "#b5de2b"
          ],
          [
           1,
           "#fde725"
          ]
         ]
        },
        "template": {
         "data": {
          "bar": [
           {
            "error_x": {
             "color": "#2a3f5f"
            },
            "error_y": {
             "color": "#2a3f5f"
            },
            "marker": {
             "line": {
              "color": "#E5ECF6",
              "width": 0.5
             },
             "pattern": {
              "fillmode": "overlay",
              "size": 10,
              "solidity": 0.2
             }
            },
            "type": "bar"
           }
          ],
          "barpolar": [
           {
            "marker": {
             "line": {
              "color": "#E5ECF6",
              "width": 0.5
             },
             "pattern": {
              "fillmode": "overlay",
              "size": 10,
              "solidity": 0.2
             }
            },
            "type": "barpolar"
           }
          ],
          "carpet": [
           {
            "aaxis": {
             "endlinecolor": "#2a3f5f",
             "gridcolor": "white",
             "linecolor": "white",
             "minorgridcolor": "white",
             "startlinecolor": "#2a3f5f"
            },
            "baxis": {
             "endlinecolor": "#2a3f5f",
             "gridcolor": "white",
             "linecolor": "white",
             "minorgridcolor": "white",
             "startlinecolor": "#2a3f5f"
            },
            "type": "carpet"
           }
          ],
          "choropleth": [
           {
            "colorbar": {
             "outlinewidth": 0,
             "ticks": ""
            },
            "type": "choropleth"
           }
          ],
          "contour": [
           {
            "colorbar": {
             "outlinewidth": 0,
             "ticks": ""
            },
            "colorscale": [
             [
              0,
              "#0d0887"
             ],
             [
              0.1111111111111111,
              "#46039f"
             ],
             [
              0.2222222222222222,
              "#7201a8"
             ],
             [
              0.3333333333333333,
              "#9c179e"
             ],
             [
              0.4444444444444444,
              "#bd3786"
             ],
             [
              0.5555555555555556,
              "#d8576b"
             ],
             [
              0.6666666666666666,
              "#ed7953"
             ],
             [
              0.7777777777777778,
              "#fb9f3a"
             ],
             [
              0.8888888888888888,
              "#fdca26"
             ],
             [
              1,
              "#f0f921"
             ]
            ],
            "type": "contour"
           }
          ],
          "contourcarpet": [
           {
            "colorbar": {
             "outlinewidth": 0,
             "ticks": ""
            },
            "type": "contourcarpet"
           }
          ],
          "heatmap": [
           {
            "colorbar": {
             "outlinewidth": 0,
             "ticks": ""
            },
            "colorscale": [
             [
              0,
              "#0d0887"
             ],
             [
              0.1111111111111111,
              "#46039f"
             ],
             [
              0.2222222222222222,
              "#7201a8"
             ],
             [
              0.3333333333333333,
              "#9c179e"
             ],
             [
              0.4444444444444444,
              "#bd3786"
             ],
             [
              0.5555555555555556,
              "#d8576b"
             ],
             [
              0.6666666666666666,
              "#ed7953"
             ],
             [
              0.7777777777777778,
              "#fb9f3a"
             ],
             [
              0.8888888888888888,
              "#fdca26"
             ],
             [
              1,
              "#f0f921"
             ]
            ],
            "type": "heatmap"
           }
          ],
          "histogram": [
           {
            "marker": {
             "pattern": {
              "fillmode": "overlay",
              "size": 10,
              "solidity": 0.2
             }
            },
            "type": "histogram"
           }
          ],
          "histogram2d": [
           {
            "colorbar": {
             "outlinewidth": 0,
             "ticks": ""
            },
            "colorscale": [
             [
              0,
              "#0d0887"
             ],
             [
              0.1111111111111111,
              "#46039f"
             ],
             [
              0.2222222222222222,
              "#7201a8"
             ],
             [
              0.3333333333333333,
              "#9c179e"
             ],
             [
              0.4444444444444444,
              "#bd3786"
             ],
             [
              0.5555555555555556,
              "#d8576b"
             ],
             [
              0.6666666666666666,
              "#ed7953"
             ],
             [
              0.7777777777777778,
              "#fb9f3a"
             ],
             [
              0.8888888888888888,
              "#fdca26"
             ],
             [
              1,
              "#f0f921"
             ]
            ],
            "type": "histogram2d"
           }
          ],
          "histogram2dcontour": [
           {
            "colorbar": {
             "outlinewidth": 0,
             "ticks": ""
            },
            "colorscale": [
             [
              0,
              "#0d0887"
             ],
             [
              0.1111111111111111,
              "#46039f"
             ],
             [
              0.2222222222222222,
              "#7201a8"
             ],
             [
              0.3333333333333333,
              "#9c179e"
             ],
             [
              0.4444444444444444,
              "#bd3786"
             ],
             [
              0.5555555555555556,
              "#d8576b"
             ],
             [
              0.6666666666666666,
              "#ed7953"
             ],
             [
              0.7777777777777778,
              "#fb9f3a"
             ],
             [
              0.8888888888888888,
              "#fdca26"
             ],
             [
              1,
              "#f0f921"
             ]
            ],
            "type": "histogram2dcontour"
           }
          ],
          "mesh3d": [
           {
            "colorbar": {
             "outlinewidth": 0,
             "ticks": ""
            },
            "type": "mesh3d"
           }
          ],
          "parcoords": [
           {
            "line": {
             "colorbar": {
              "outlinewidth": 0,
              "ticks": ""
             }
            },
            "type": "parcoords"
           }
          ],
          "pie": [
           {
            "automargin": true,
            "type": "pie"
           }
          ],
          "scatter": [
           {
            "fillpattern": {
             "fillmode": "overlay",
             "size": 10,
             "solidity": 0.2
            },
            "type": "scatter"
           }
          ],
          "scatter3d": [
           {
            "line": {
             "colorbar": {
              "outlinewidth": 0,
              "ticks": ""
             }
            },
            "marker": {
             "colorbar": {
              "outlinewidth": 0,
              "ticks": ""
             }
            },
            "type": "scatter3d"
           }
          ],
          "scattercarpet": [
           {
            "marker": {
             "colorbar": {
              "outlinewidth": 0,
              "ticks": ""
             }
            },
            "type": "scattercarpet"
           }
          ],
          "scattergeo": [
           {
            "marker": {
             "colorbar": {
              "outlinewidth": 0,
              "ticks": ""
             }
            },
            "type": "scattergeo"
           }
          ],
          "scattergl": [
           {
            "marker": {
             "colorbar": {
              "outlinewidth": 0,
              "ticks": ""
             }
            },
            "type": "scattergl"
           }
          ],
          "scattermap": [
           {
            "marker": {
             "colorbar": {
              "outlinewidth": 0,
              "ticks": ""
             }
            },
            "type": "scattermap"
           }
          ],
          "scattermapbox": [
           {
            "marker": {
             "colorbar": {
              "outlinewidth": 0,
              "ticks": ""
             }
            },
            "type": "scattermapbox"
           }
          ],
          "scatterpolar": [
           {
            "marker": {
             "colorbar": {
              "outlinewidth": 0,
              "ticks": ""
             }
            },
            "type": "scatterpolar"
           }
          ],
          "scatterpolargl": [
           {
            "marker": {
             "colorbar": {
              "outlinewidth": 0,
              "ticks": ""
             }
            },
            "type": "scatterpolargl"
           }
          ],
          "scatterternary": [
           {
            "marker": {
             "colorbar": {
              "outlinewidth": 0,
              "ticks": ""
             }
            },
            "type": "scatterternary"
           }
          ],
          "surface": [
           {
            "colorbar": {
             "outlinewidth": 0,
             "ticks": ""
            },
            "colorscale": [
             [
              0,
              "#0d0887"
             ],
             [
              0.1111111111111111,
              "#46039f"
             ],
             [
              0.2222222222222222,
              "#7201a8"
             ],
             [
              0.3333333333333333,
              "#9c179e"
             ],
             [
              0.4444444444444444,
              "#bd3786"
             ],
             [
              0.5555555555555556,
              "#d8576b"
             ],
             [
              0.6666666666666666,
              "#ed7953"
             ],
             [
              0.7777777777777778,
              "#fb9f3a"
             ],
             [
              0.8888888888888888,
              "#fdca26"
             ],
             [
              1,
              "#f0f921"
             ]
            ],
            "type": "surface"
           }
          ],
          "table": [
           {
            "cells": {
             "fill": {
              "color": "#EBF0F8"
             },
             "line": {
              "color": "white"
             }
            },
            "header": {
             "fill": {
              "color": "#C8D4E3"
             },
             "line": {
              "color": "white"
             }
            },
            "type": "table"
           }
          ]
         },
         "layout": {
          "annotationdefaults": {
           "arrowcolor": "#2a3f5f",
           "arrowhead": 0,
           "arrowwidth": 1
          },
          "autotypenumbers": "strict",
          "coloraxis": {
           "colorbar": {
            "outlinewidth": 0,
            "ticks": ""
           }
          },
          "colorscale": {
           "diverging": [
            [
             0,
             "#8e0152"
            ],
            [
             0.1,
             "#c51b7d"
            ],
            [
             0.2,
             "#de77ae"
            ],
            [
             0.3,
             "#f1b6da"
            ],
            [
             0.4,
             "#fde0ef"
            ],
            [
             0.5,
             "#f7f7f7"
            ],
            [
             0.6,
             "#e6f5d0"
            ],
            [
             0.7,
             "#b8e186"
            ],
            [
             0.8,
             "#7fbc41"
            ],
            [
             0.9,
             "#4d9221"
            ],
            [
             1,
             "#276419"
            ]
           ],
           "sequential": [
            [
             0,
             "#0d0887"
            ],
            [
             0.1111111111111111,
             "#46039f"
            ],
            [
             0.2222222222222222,
             "#7201a8"
            ],
            [
             0.3333333333333333,
             "#9c179e"
            ],
            [
             0.4444444444444444,
             "#bd3786"
            ],
            [
             0.5555555555555556,
             "#d8576b"
            ],
            [
             0.6666666666666666,
             "#ed7953"
            ],
            [
             0.7777777777777778,
             "#fb9f3a"
            ],
            [
             0.8888888888888888,
             "#fdca26"
            ],
            [
             1,
             "#f0f921"
            ]
           ],
           "sequentialminus": [
            [
             0,
             "#0d0887"
            ],
            [
             0.1111111111111111,
             "#46039f"
            ],
            [
             0.2222222222222222,
             "#7201a8"
            ],
            [
             0.3333333333333333,
             "#9c179e"
            ],
            [
             0.4444444444444444,
             "#bd3786"
            ],
            [
             0.5555555555555556,
             "#d8576b"
            ],
            [
             0.6666666666666666,
             "#ed7953"
            ],
            [
             0.7777777777777778,
             "#fb9f3a"
            ],
            [
             0.8888888888888888,
             "#fdca26"
            ],
            [
             1,
             "#f0f921"
            ]
           ]
          },
          "colorway": [
           "#636efa",
           "#EF553B",
           "#00cc96",
           "#ab63fa",
           "#FFA15A",
           "#19d3f3",
           "#FF6692",
           "#B6E880",
           "#FF97FF",
           "#FECB52"
          ],
          "font": {
           "color": "#2a3f5f"
          },
          "geo": {
           "bgcolor": "white",
           "lakecolor": "white",
           "landcolor": "#E5ECF6",
           "showlakes": true,
           "showland": true,
           "subunitcolor": "white"
          },
          "hoverlabel": {
           "align": "left"
          },
          "hovermode": "closest",
          "mapbox": {
           "style": "light"
          },
          "paper_bgcolor": "white",
          "plot_bgcolor": "#E5ECF6",
          "polar": {
           "angularaxis": {
            "gridcolor": "white",
            "linecolor": "white",
            "ticks": ""
           },
           "bgcolor": "#E5ECF6",
           "radialaxis": {
            "gridcolor": "white",
            "linecolor": "white",
            "ticks": ""
           }
          },
          "scene": {
           "xaxis": {
            "backgroundcolor": "#E5ECF6",
            "gridcolor": "white",
            "gridwidth": 2,
            "linecolor": "white",
            "showbackground": true,
            "ticks": "",
            "zerolinecolor": "white"
           },
           "yaxis": {
            "backgroundcolor": "#E5ECF6",
            "gridcolor": "white",
            "gridwidth": 2,
            "linecolor": "white",
            "showbackground": true,
            "ticks": "",
            "zerolinecolor": "white"
           },
           "zaxis": {
            "backgroundcolor": "#E5ECF6",
            "gridcolor": "white",
            "gridwidth": 2,
            "linecolor": "white",
            "showbackground": true,
            "ticks": "",
            "zerolinecolor": "white"
           }
          },
          "shapedefaults": {
           "line": {
            "color": "#2a3f5f"
           }
          },
          "ternary": {
           "aaxis": {
            "gridcolor": "white",
            "linecolor": "white",
            "ticks": ""
           },
           "baxis": {
            "gridcolor": "white",
            "linecolor": "white",
            "ticks": ""
           },
           "bgcolor": "#E5ECF6",
           "caxis": {
            "gridcolor": "white",
            "linecolor": "white",
            "ticks": ""
           }
          },
          "title": {
           "x": 0.05
          },
          "xaxis": {
           "automargin": true,
           "gridcolor": "white",
           "linecolor": "white",
           "ticks": "",
           "title": {
            "standoff": 15
           },
           "zerolinecolor": "white",
           "zerolinewidth": 2
          },
          "yaxis": {
           "automargin": true,
           "gridcolor": "white",
           "linecolor": "white",
           "ticks": "",
           "title": {
            "standoff": 15
           },
           "zerolinecolor": "white",
           "zerolinewidth": 2
          }
         }
        },
        "title": {
         "text": "Mapa de Calor de Siniestros por Departamento y Hora del Día"
        },
        "xaxis": {
         "anchor": "y",
         "constrain": "domain",
         "domain": [
          0,
          1
         ],
         "scaleanchor": "y",
         "title": {
          "text": "HORA SINIESTRO"
         }
        },
        "yaxis": {
         "anchor": "x",
         "autorange": "reversed",
         "constrain": "domain",
         "domain": [
          0,
          1
         ],
         "title": {
          "text": "DEPARTAMENTO"
         }
        }
       }
      }
     },
     "metadata": {},
     "output_type": "display_data"
    }
   ],
   "source": [
    "# mapa de calor siniestros por departamento según la hora del día\n",
    "vehiculos_siniestros['HORA SINIESTRO'] = pd.to_datetime(vehiculos_siniestros['HORA SINIESTRO'], format='%H:%M', errors='coerce')\n",
    "vehiculos_siniestros['HORA SINIESTRO'] = vehiculos_siniestros['HORA SINIESTRO'].dt.hour\n",
    "siniestros_por_departamento_hora = vehiculos_siniestros.groupby(['DEPARTAMENTO', 'HORA SINIESTRO'])['CÓDIGO SINIESTRO'].count().reset_index()\n",
    "\n",
    "# pivoteamos\n",
    "matriz_por_dep_hora = siniestros_por_departamento_hora.pivot(index = 'DEPARTAMENTO', columns = 'HORA SINIESTRO', values = 'CÓDIGO SINIESTRO').fillna(0)\n",
    "\n",
    "# gráfico de mapa de calor\n",
    "fig3 = px.imshow(matriz_por_dep_hora, text_auto = True, color_continuous_scale = 'Viridis', title='Mapa de Calor de Siniestros por Departamento y Hora del Día')\n",
    "\n",
    "fig3.show()"
   ]
  },
  {
   "cell_type": "code",
   "execution_count": 11,
   "id": "4db53616",
   "metadata": {},
   "outputs": [
    {
     "name": "stdout",
     "output_type": "stream",
     "text": [
      "CLASE SINIESTRO\n",
      "ATROPELLO                 1\n",
      "ATROPELLO FUGA            1\n",
      "CAÍDA DE PASAJERO         1\n",
      "CHOQUE                    1\n",
      "CHOQUE CON OBJETO FIJO    1\n",
      "CHOQUE FUGA               1\n",
      "DESPISTE                  1\n",
      "ESPECIAL                  1\n",
      "FERROVIARIO               1\n",
      "INCENDIO                  1\n",
      "VOLCADURA                 1\n",
      "Name: CLASE SINIESTRO, dtype: int64\n"
     ]
    }
   ],
   "source": [
    "siniestros_by_mes = vehiculos_siniestros.groupby('CLASE SINIESTRO')\n",
    "siniestros_by_mes = siniestros_by_mes['CLASE SINIESTRO'].nunique()\n",
    "print(siniestros_by_mes)"
   ]
  },
  {
   "cell_type": "code",
   "execution_count": 12,
   "id": "175c72ac",
   "metadata": {},
   "outputs": [
    {
     "name": "stdout",
     "output_type": "stream",
     "text": [
      "      COORDENADAS LATITUD  COORDENADAS  LONGITUD  CÓDIGO SINIESTRO\n",
      "0              -18.305434             -70.320481                 1\n",
      "1              -18.299647             -70.315496                 1\n",
      "2              -18.292291             -70.316267                 1\n",
      "3              -18.284340             -70.437300                 1\n",
      "4              -18.282521             -70.440696                 1\n",
      "...                   ...                    ...               ...\n",
      "6710            -3.485154             -80.266345                 1\n",
      "6711            -3.484335             -80.259209                 2\n",
      "6712            -3.483976             -80.258383                 1\n",
      "6713            -3.483398             -80.286884                 1\n",
      "6714            -3.482921             -80.254404                 1\n",
      "\n",
      "[6715 rows x 3 columns]\n"
     ]
    }
   ],
   "source": [
    "siniestros_por_ubi = vehiculos_siniestros.groupby(['COORDENADAS LATITUD', 'COORDENADAS  LONGITUD'])['CÓDIGO SINIESTRO'].count().reset_index()\n",
    "print(siniestros_por_ubi)"
   ]
  },
  {
   "cell_type": "code",
   "execution_count": 17,
   "id": "48b7fa07",
   "metadata": {},
   "outputs": [
    {
     "data": {
      "application/vnd.plotly.v1+json": {
       "config": {
        "plotlyServerURL": "https://plot.ly"
       },
       "data": [
        {
         "coloraxis": "coloraxis",
         "hovertemplate": "CÓDIGO SINIESTRO=%{z}<br>COORDENADAS LATITUD=%{lat}<br>COORDENADAS  LONGITUD=%{lon}<extra></extra>",
         "lat": {
          "bdata": "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",
          "dtype": "f8"
         },
         "lon": {
          "bdata": "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",
          "dtype": "f8"
         },
         "name": "",
         "radius": 10,
         "subplot": "map",
         "type": "densitymap",
         "z": {
          "bdata": "AQEBAQEBAwIBAQEBAgECAQIBAQIBAgIBAgEBAgIBAwMCAgIBAQECAgIBAgECAQICAQECAQECAQEBAQIBAQEBAQEBAQEBAQIBAQIDAQECAgEBAgEBAQEBAgECAQECAQEBAQICAQECAQICAgEBAQECAgIBAQICAQEBAQIBAQEBAQEBAQECAQIBAQEBAQEBAQECAQECAQIBAQEBAQIBAgICAQIBAQICAgICAQECAgEBAgIBAQECAgECAQEBAgEBAQECAQEBAgICAgMBAgICAQEBAQICAgECAQICAQECAgICAgECAQEBAgIBAQEBAgIBAQEBAgECAQEBAwECAQEBAgEBAgICAgECAQIBAQIBAgICAQEBAwECAQEDAgICAQEBAgICAQECAQECBQIEAgIBAgECAQIBAQEBAwEBAgIBAQECAgIBAQECAgECAQECAgEDAgIDAgEBAgEBAQICAQIBAQEBAQEBAQECAQEBAgIBAQEBAgQBAgEBAQEBAgIBAQEBAQEBAQECAQEBAQEBAQEBAgEBAQEBAQECAgEBAQEBAQEBAgEBAQEBAQEBAgECAQECAgEBAQIBAQIBAQIBAQICAQIBAgEDAQIBAQECAQEBAQICAQECAQEBAQIDAQIDAgEBAgICAQEBAQEBAQICAQEBAgEBAQMCAQEBAgEBAgIBAQEBAQEBAQEBAQEBAgECAQIBAQECAQECAQIBAgIBAQEBAgIBAQIBAgEBAQEBAQEBAgEBAQICAQICAgEBAgECAgEBAQMBAQEBAQEBAQEBAgECAgEBAgEBAQEBAQIBAQIBAQEBAgECAQECAQIBAQEBAgECAgEBAQIBAQEBAgEBAQICAgECAQICAQECAgECAgEBAQICAgEBAQIBAQECAQICAwIBAQECAgICAgIBAQECAQECAQECAQECAQICAgICAgICAgICAQECAgICAQEBBQICAgEDAQIBAgECAQEBAQICAgIBAgECAgEBAgICAgIBAQEBAQECAgIBAQEBAgEDAgICAgEBAgICAQEBAgEBBAECAgEBAQECAQIBAQIBAgIBAQEBAwECAgICAQEBAgICAQICAQICAQIBAgICAgECAQICAQEBAgICAgIBAQEBAQEBAgEBAgIBAQIBAQEBAQIBAgICAwEDAQIBAQIBAgIBAgEBAQICAQEBAQEBAQEBAgIBAgIBAQIBAQECAgEBAQIBAQECAQICAQECAQICAQICAQEBAQECAgEBAQEBAQEEAQICAQEBAQIBAgECAgIBAgICAQECAQIBAgEBAQICAgECAQEBAgEBAgICAQEBAQMBAgEBAQECAQEDAQEBAgIBAQEBAQEDAQIBAQIBAgMCAgIBAQICAQMBAgIBAgECAgICAgECAgEBAgECAgIBAQICAwEBAQICAwIBAQECAgIBAgECAQECAQECAgIBAgEBAwEBAgECAQECAQIBAgIBAQICAgECAQEBAQECAQEBAgECAQECAwICAQEEAgIBAQECAgEBAgECAQEBAQMBAQEBAQECAgICAgIBAgIBAQIBAgIBAQECAQIBAQEBAgIBAgECAQEBAQICAQIBAQEBAgIBAQICAgEDAQICAgEBAgIBAgEBAQICAQEBAgIBAQICAwEBAQECAgIBAgECAgEBAgECAgICAQECAgEBAQICAgECAQEBAgIBAQECBAEBAQECAQIBAQEBAQEBAgIBAQEBAQEBAQICAQIBAQEBAQIBAgIBAwEBAQIBAQECAQECAQECAQEBAQECAgECAQECAQEBAgEBAQEBAgEBAgEBAgEBAQECAQICAQEBAQICAQEBAQIBAQEBAQEBAgECAgEBAQICAQICAQIBAgEBAgEBAQECAQMBAQEBAgECAgICAQEBAgECAQEBAQIBAgECAQIBAQIBAQEBAQECAQIBAQIBAQEBAQIDAQEBAgECAQIBAQMDAQQBAQECAQEBAQIBAgEBAQECAQEBAQIDAQIBAQECAgEBAQIBAQEBAQECAQEBAgICAgEBAQIBAQEBAQEBAQEBAQECAgEBAQECAwIBAQEBAgEBAgECAQEBAgIBAQEBAQECAQEBAQIBAQICAgECAQEBAgEDAQECAQICAQEBAQEBAwIBAQECAQEBAQECAgECAQECAQICAgEBAgIBAQICAgEBAQEBAQECAQIBAQEBAQEBAQEBAQEBAgECAgMBAgEBAQIBAQEBAwMBAQIBAQEBAQEBAQEBAQEBAQEBAQECAgEBAQEBAQEBAQEBAQEBAQECAQICAQECAQICAQEBAQECAQEBAQECAgECAQECAQEDAQEBAQIBAQEEAQECAgICAQEBAgEBAQECAQEBAgEBAQEBAwEBAQEBAQICAgECAQICAQIBAQEBAQEBAgECAgEBAQECAQEBAQIBAQICAgEBAQEBAQIBAQEBAgICAQECAQECAQEDAQECAQEBAgEBAQEBAQEBAQEBAQEBAQICAQEBAQIBAQECAQIBAgEBAgEBAQIBAQECAgEBAQEBAQEBAQIBAQEBAgQCAQIBAQIBAQIBAQEBAQIBAgEBAQIBAQEBAQICAgMBAQEBAQEBAQEBAQEBAQIBAQEBAQICAQIBAQEBAgIBAQEBAgEBAQIBAgIBAQIBAQICAQEBAQEBAQEBAQEBAQECAQEBAQEBAQEBAQECAQEBAQIBAQEBAQEBAgEBAgEBAQECAQECAQEBAgEBAgIBAQEBAQECAgIBAwEBAQECAQIBAgEBAQEBAQEBAQEBAgIBAQIBAwECAQIBAQIBAQIBAgIBAgECAgECAgIBAgICAQIBAgIBAgMBAgEBAQEBAQEBAQECAQIBAgEBAQEBAQICAgICAgIFAgEBAgIBAQECAgEBAQEBAgEBAQECAQEBAQECAgECAgICAgECAgEBAQICAQIBAgEBAQEBAgECAgEBAQIBAQEBAQEBAQEBAQECAQEBAQEBAgIBAQEBAQEBAQIBAQIBAgEBAQEBAQEBAQIBAQIBAQICAQIBAQECAQECAQECAQEBAgIBAQEBAgEBAQEBAQEBAgEBAgEBAQEBAQEBAQEBAgEBAQIBAQEBAQEBAQEBAwEBAQEBAQEBAQEBAQEBAQEBAQEBAgIBAQECAQEBAQMBAQEBAQEBAQEBAgECAQEBAQIBAQICAQICAQICAQIBAQMBAgEBAQECAQEBAQIBAQEDAQEBAQEBAQEBAgECAQIBAgEBAQIBAQECAgECAwECAQEDAQEBAgEBAQIDAQECAQIBAgICAgEBAQECAQEBAgECAgIBBAIBAgEBAgIBAgECAQEBAQEBAQIBAQEBAQIBAQEBAQEBAwEDAQEBAQEDAQECAQEBAgEBAgEBAQEBAQEBAQEBAQECAQICAQECAQEBAQEBAQEBAQIBAQECAQEBAgICAQECAQIBAwEBAQECAgECAQIBAgIBAgIBAgEBAgEBAQEBAgECAQIBAQEBAgIBAgECAgECAgEBAQEBAQIBAgEBAgECAQEBAgEBAQICAgECAgECAQEBAQICAQECAQEBAQECAQEBAQECAQEBAQEBAQEEAgICAQEBAQIBAgICAQECAQECAQIBAgIBAgIBAgEBAQIBAgECAgEBAgIBAQIBAQEBAQECAgEBAQEBAgECAQECAQEBAQECAgECAQEBAQEBAQEBAQEBAgIBAQIBAQEBAQEBAQIBAQECAQEBAQEBAgEBAQEBAQIBAgEBAgIBAQECAQEBAQEBAQEBAQEBAgEBAQIBAQECAgEBAQEDAQIBAgEBAQEBAgEBAgICAQEBAgIBAQECAgIBAQEBAQEBAQEEAQEBAQEBAQECAQEBAQEBAgECAgECAgIBAQIBAQEBAQICAgEBAQECAgECAgEDAgIBAQEBAgEBAQEBAQIBAQECAgICAQECAQECAQICAQEBAQEBAgEBAQICAgEBAQECAgIBAQECAgECAgEBAgIBAQICAgIBAQIBAQIBAQECAQEBAgEBAQEBAgIBAQEBAQICAgIBAQIBAQECAQEBAQIBAQEBAQEBAQEBAQIBAQICAQEBAQEBAQIBAQIBAQEBAgIBAQEBAgMBAQIBAQEBAQICAQQBAQEBAQEBAwEBAQIBAQEBAgIBAQECAQECAQECAQIBAQECAQIBAgEBAQEBAQQBAQECAQECAQEBAgEBAQIBAQIBAQEBAQECAQEBAQEBAQEBAQEBAQECAQEBAgEBAQECAQIBAQIBAQECAQECAQECAgICAQECAgECAgEBAQIBAgEBAgEBAQECAQECAgEBAQEBAgEBAgEBAQEBAQEBAQEBAwECAgIBAgEBAgEBAQEBAQECAgIBAQEBAQICAgICAQECAQEBAQEBAQEBAgEBAQEBAQIBAQEBAgEBAwEBAQECAwEBAgEBAQECAgIBAQECAQECAQEBAQEBAgECAQEBAQIBAQEBAgEBAQEBAQEDAgIBAQECAQIBAQEBAgEBAQEBAQECAgEBAQEBAgEBAQEBAQIBAQEBAgECAgIBAQEBAQECAQEBAQIBAQEBAQECAgEBAQECAgEBAQECAQEBAQEBAgEBAgEBAQIBAQIBAQEBAQICAwEBAQEBAgEBAQIBAQEBAQEBAQEBAQECAQEBAQEBAgECAQEBAgEBAgECAQEBAQEBAgECAQEBAQEBAgEBAgIBAgECAQEBAQEBAQECAQECAgECAgEBAQECAQEBAQICAQIBAQECAgEBAQEBAQECAgEBAgECAgIBAQECAgEBAwEBAQIBAgMBAQECAQEBAQECAQIBAgEBAQMCAQEBAQEBAQICAwIBAgEBAQEEAQECAQEBAQECAQEBAQICAQEBAQIBAQEBAQEBAgECAQEBAQECAQEBAQIBAQEBAQEBAQIBAgEBAQEBAQEBAQEBAQECAQEBAQICAgEBAQIBAgEBAQECAgECAQICAQIBAQIBAQIBAQEBAQECAwECAgEBAQEBAgICAQECAQEBAQEBAQEBBAECAQIBAgEBAgECAgECAgEBAgEBAQICAgIBAQIBAQEBAQEBAQEBAQIBAgECAQEBAQECAQEBAQEBAQIBAQEBAgEBAQECAQECAwEBAQMCAQIBAQICAQICAQICAgECAQEBAQECAQEBAQEBAgEBAgEBAwIBAQECAgEBAQEBAQEBAQICAwEBAQIBAQEBAQICAgEBAQECAQIBAgEBAQICAQECAQIBAQIBAQICAgICAQEBAgEBAgEBAQIBAQEBAQECAgIBAgEBAQEBAQEBAgEBAQEBAQIBAQECAgIBAQECAQEBAgMBAQICAgEBAQEBAgIBAQEBAQIBAQECAQEBAQEBAQIBAQEBAQICAQIBAQEBAQECAQICAQIBAgICAQIBAQECAQEBAQECAgEBAQECAQICAgECAQEBAgEBAQEBAQECAQEBAQICBAECAgICAQIBAQIBAgECAgEBAQICAgICAgEBAgECAgEBAgEBAgECAQEBAQECAQECAQEDAwIBAQEBAQEBAQECAgICAgECAQIBAgIBAgECAQECAgECAgEBAQEBAgICAQEBAgEBAgEBAgECAQIBAQEBAQICAgIDAgEBAQIBAgIBAQMCAQECAgICAQEBAQEBAQICAwIBAQIBAQEBAgEBAQEBAgIBAgICAQEBAQIBAQICAQIBAgEBAQIDAgEBAgIBAwIDAQEBAgEBAQICAQECAQECAQEBAQEBAQECAQECAQIBAQIBAgMBAgECAgEBAQIBAQIDAgIBAQEBAgECAgECAQICAQICAQECAQEBAgICAgECAQEBAgECAQEBAQEBAQEBAgIBAQEBAgEBAQIBAQICAQIBAQEBAQIBAQIBAQECAQIBAgEBAQEBAQIBAQECAgEBAQECAQECAQIBAgEBAgECBAIBAQEBAgIBAQIBAQEBAQEDAQEBAQIBAQEBAQEBAQECAgEBAgEBAQEBAQIBAgEBAQEDAgMCAgMCAQEBAQEBAQIBAQECAQEBAQMBAQEBAgICAQECAQICAgECAgIBAgEBAQEBAQIBAgICAQIBAgICAQICAQECAQEBAgECAgIBAQEBAQECAQECAQEBAQECAQICAQECAQECAgIBAQECAQECAQECAQIBAQECAQEBAQECAgIBAQECAgECAQIBAgIBAQECAgIBAQEBAQEBAQICAgIBAQICAgIBAQMBAQEBAQICAQEBAQICAQEBAQEBAQMBAgEBAQIBAgECAQECAQEBAgIBAQECAQIBAQEBAgEBAgIBAgECAgEBAgIBAgECAgEBAQIBAQECAQIBAQICAgECAQIBAQEBAQECAgMBAQEBAQECAQECAgEBAgEBAgEBAQEBAQEBAgIBAQICAQEBAQICAQECAQIBAgEBAQECAQICAQECAQIBAQICAQEBAQEBAgIBAQEBAQEBAQICAQEBAQIBAQECAQICAQICAgECAQICAQICAgECAQIBAQEBAQECAQECAQICAgICAQEBAQMBAgICAQICAQECAQICAgIBAQEBAgEBAgEBAgMCAgECAgIBAQECAgMBAQIBAQEBAQEBAQICAQIBAQEBAQIBAgEBAQIBAQEBAQIDAgECAgEBAQEBAgECAgECAQIBAQEBAQECAQMBAQEBAQEBAQECAQICAQEBAgICAQIBAQECAgEBAgEBAQICAQEBAQIBAgEBAgIBAgIBAQIBAgECAgIBAQECAgEBAgICAQEBAgEBAgIBAgEBAQIBAQECAgEDAQECAQEBAQICAQECAQEBAQICAgEBAgICAQECAQECAQECAgEBAgIBAQECAQEBAQEBAQECAQIBAQIBAQEBAgIBAQECAQICAgIBAQICAQIBAQIBAQEBAQIBAQMBAgECAQIBAQEBAQIBBAEBAQECAQEBAQIBAQIBAQEBAQEBAQIBAQECAQEBAgIBAQICAQEBAgEBAgEBAgECAQEBAgEBAQEBAQEBAgIBAgEBAgIBAQIBAQIBAQEBAQEBAQIBAgICAQEBAgEBAQIBAQIBAQIBAQICAQIBAgIBAQEBAQECAQICAgEBAQECAgEDAQEBAQECAQEBAQEBAQICAgIBAQEBAQEBAQECAQIBAQEBAQECAgEBAgECAQEBAQECAgECAQECAQEBAQECAwIBAgIDAgICAQICAQIBAgICAQEBAQEBAQEBAgECAQICAQIBAgECAwICAQIBAgEBAQEBAgIBAQEBAQIBAgECAQECAgECAQICAQEBAgIBAQECAQICAQICAgICAgICAQECAQECAgICAQEBAQIBAQEDAQICAgICAQEBAQEDAgICAQEBAQICAQEBAgIBAQICAgECAQEBAgIBAQIBAQEBAQEBAQECAgEBAgECAQECAQEBAQEBAgECAgECAgEBAQICAQECAQICAgICAQECAQIBAgEBAgECAQEBAQEBAQIBAQIBAQICAQIBAQIBAgIBAQEBAQEBAQECAQECAgICAgMBAgEBAgIBAQEBAgEBAQEBAQECAgEBAgEBAQEBAQEBAQIBAQEBAQECAQEBAQECAgECAgICAQEBAQEBAQECAQEBAgICAQICAQECAgECAgIBAQECAQECAQEBAgIBAQEBAQEBAQICAQICAQECAgICAQEBAQECAQICAQEBAgECAQIBAgEBAgICAQECAQIBAQICAQICAgICAQICAgEBAgEBAgICAQMBAQICAgIBAQIBAQECAgEBAQECAQECAgICAQEBAgIBAgEBAQIDAQECAQECAQECBAEBAgEBAQEBAgEBAQEBAwICAgIBAgECAgMBAwEBAQEBAwECAgIBAgECAgMBAgEBAgEBAgECAgIBAgEBAgIBAQECAQIBAgIBAgIBAgEBAgECAgIBAgECAgECAgIBAQICAgICAgECAgICAQEBAQIBAgEBAQECAgIBAgEBAgIBAgEBAQEBAgEBAQECAgICAgEBAgECAQECAQEBAQEBAQICAQEBAQIBAQEBAQEBAgIBAQECAQICAQIBAgIBAgIBAgEBAQEBAgICAQECAwEBAQEBAQEBAQECAgIFAgIBAgECAgIBAgICAgECAQMBAgEBAgIBAgIBAgECAgICAgECAQECAQICAgICAgICAgICAQIBAQECAgECAgICAgECAQEDAgIBAQICAQICAQIBAgEBAgICAQEBAQICAgECAgICAgEBAQECAgEBAgICAgECAgECAgIBAQICAQECAQEBAgIBAQMCAgEBAQECAQIBAgIDAQEBAQICAQIBAgIEAQIBAQECAgIBAQECAgICAgQCAQICAgICAgEBAgECAQIBAQICAQIBAgICAgIBAgICAgEBAwEBAQECAgECAgEBAwEBAgEBAgECAgEDAQECAgIDAQEBAgEBAgICAQICAQECAgECAgECAgECAQECAgEBAQECAQIBAgEBAgECAgICAgECAgEDAgEBAQIBAgECAQICAQEBAgECAQECAgICAgIBAQEBAQICAgECAgECAgICAgECAgICAQECAQEBAQIBAQECAQEBAgIBAQIBAQIBAgIBAgECAQEBAQICAQEBAgIBAgEBAQIBAQEBAgICAQECAgIBAwIBAgEBAgEDAgEBAQEBAQECAwECAQICAgICAQEBAQEBAQIBAQICAgECAQICAgEBAQEBAgMBAgICAQIBAQUBAQEBAgICAgECAQICAgECAwECAgECAgECAgEBAgIBAwECAQIBAQEBAQEBAQEBAgIBAgEBAQECAQICAgIBAgEBAQICAQEBAQIDAQIBAgECAgIBAQECAgICAQEBAQIBAgICAQEBAgIBAgIBAgECAgIBAQEBAQEBAQIBAQECAQIBAgECAgEBAgICAgECAgIBAgEBAgECAgIBAgEBAQEBAQIBAQICAQICAQEBAwEBAgIBAQIBAQICAgECAgICAQECAgICAQMBAQICBQECAQEBAQEBAQEBAQIBAgECAQEDAQECAgEDAQEBAgEBAQEBAQEBAgECAgIBAQECAQECAQECBAIBAQEBAgEBAQMBAwEBAQIBAQEBAgEBAQIBAQICAQEBAgEBAQ==",
          "dtype": "i1"
         }
        }
       ],
       "layout": {
        "coloraxis": {
         "colorbar": {
          "title": {
           "text": "CÓDIGO SINIESTRO"
          }
         },
         "colorscale": [
          [
           0,
           "#0d0887"
          ],
          [
           0.1111111111111111,
           "#46039f"
          ],
          [
           0.2222222222222222,
           "#7201a8"
          ],
          [
           0.3333333333333333,
           "#9c179e"
          ],
          [
           0.4444444444444444,
           "#bd3786"
          ],
          [
           0.5555555555555556,
           "#d8576b"
          ],
          [
           0.6666666666666666,
           "#ed7953"
          ],
          [
           0.7777777777777778,
           "#fb9f3a"
          ],
          [
           0.8888888888888888,
           "#fdca26"
          ],
          [
           1,
           "#f0f921"
          ]
         ]
        },
        "legend": {
         "tracegroupgap": 0
        },
        "map": {
         "center": {
          "lat": -11.24248121439776,
          "lon": -75.68459576581492
         },
         "domain": {
          "x": [
           0,
           1
          ],
          "y": [
           0,
           1
          ]
         },
         "zoom": 8
        },
        "mapbox": {
         "center": {
          "lat": -11.24248121439776,
          "lon": -75.68459576581492
         },
         "zoom": 8
        },
        "template": {
         "data": {
          "bar": [
           {
            "error_x": {
             "color": "#2a3f5f"
            },
            "error_y": {
             "color": "#2a3f5f"
            },
            "marker": {
             "line": {
              "color": "#E5ECF6",
              "width": 0.5
             },
             "pattern": {
              "fillmode": "overlay",
              "size": 10,
              "solidity": 0.2
             }
            },
            "type": "bar"
           }
          ],
          "barpolar": [
           {
            "marker": {
             "line": {
              "color": "#E5ECF6",
              "width": 0.5
             },
             "pattern": {
              "fillmode": "overlay",
              "size": 10,
              "solidity": 0.2
             }
            },
            "type": "barpolar"
           }
          ],
          "carpet": [
           {
            "aaxis": {
             "endlinecolor": "#2a3f5f",
             "gridcolor": "white",
             "linecolor": "white",
             "minorgridcolor": "white",
             "startlinecolor": "#2a3f5f"
            },
            "baxis": {
             "endlinecolor": "#2a3f5f",
             "gridcolor": "white",
             "linecolor": "white",
             "minorgridcolor": "white",
             "startlinecolor": "#2a3f5f"
            },
            "type": "carpet"
           }
          ],
          "choropleth": [
           {
            "colorbar": {
             "outlinewidth": 0,
             "ticks": ""
            },
            "type": "choropleth"
           }
          ],
          "contour": [
           {
            "colorbar": {
             "outlinewidth": 0,
             "ticks": ""
            },
            "colorscale": [
             [
              0,
              "#0d0887"
             ],
             [
              0.1111111111111111,
              "#46039f"
             ],
             [
              0.2222222222222222,
              "#7201a8"
             ],
             [
              0.3333333333333333,
              "#9c179e"
             ],
             [
              0.4444444444444444,
              "#bd3786"
             ],
             [
              0.5555555555555556,
              "#d8576b"
             ],
             [
              0.6666666666666666,
              "#ed7953"
             ],
             [
              0.7777777777777778,
              "#fb9f3a"
             ],
             [
              0.8888888888888888,
              "#fdca26"
             ],
             [
              1,
              "#f0f921"
             ]
            ],
            "type": "contour"
           }
          ],
          "contourcarpet": [
           {
            "colorbar": {
             "outlinewidth": 0,
             "ticks": ""
            },
            "type": "contourcarpet"
           }
          ],
          "heatmap": [
           {
            "colorbar": {
             "outlinewidth": 0,
             "ticks": ""
            },
            "colorscale": [
             [
              0,
              "#0d0887"
             ],
             [
              0.1111111111111111,
              "#46039f"
             ],
             [
              0.2222222222222222,
              "#7201a8"
             ],
             [
              0.3333333333333333,
              "#9c179e"
             ],
             [
              0.4444444444444444,
              "#bd3786"
             ],
             [
              0.5555555555555556,
              "#d8576b"
             ],
             [
              0.6666666666666666,
              "#ed7953"
             ],
             [
              0.7777777777777778,
              "#fb9f3a"
             ],
             [
              0.8888888888888888,
              "#fdca26"
             ],
             [
              1,
              "#f0f921"
             ]
            ],
            "type": "heatmap"
           }
          ],
          "histogram": [
           {
            "marker": {
             "pattern": {
              "fillmode": "overlay",
              "size": 10,
              "solidity": 0.2
             }
            },
            "type": "histogram"
           }
          ],
          "histogram2d": [
           {
            "colorbar": {
             "outlinewidth": 0,
             "ticks": ""
            },
            "colorscale": [
             [
              0,
              "#0d0887"
             ],
             [
              0.1111111111111111,
              "#46039f"
             ],
             [
              0.2222222222222222,
              "#7201a8"
             ],
             [
              0.3333333333333333,
              "#9c179e"
             ],
             [
              0.4444444444444444,
              "#bd3786"
             ],
             [
              0.5555555555555556,
              "#d8576b"
             ],
             [
              0.6666666666666666,
              "#ed7953"
             ],
             [
              0.7777777777777778,
              "#fb9f3a"
             ],
             [
              0.8888888888888888,
              "#fdca26"
             ],
             [
              1,
              "#f0f921"
             ]
            ],
            "type": "histogram2d"
           }
          ],
          "histogram2dcontour": [
           {
            "colorbar": {
             "outlinewidth": 0,
             "ticks": ""
            },
            "colorscale": [
             [
              0,
              "#0d0887"
             ],
             [
              0.1111111111111111,
              "#46039f"
             ],
             [
              0.2222222222222222,
              "#7201a8"
             ],
             [
              0.3333333333333333,
              "#9c179e"
             ],
             [
              0.4444444444444444,
              "#bd3786"
             ],
             [
              0.5555555555555556,
              "#d8576b"
             ],
             [
              0.6666666666666666,
              "#ed7953"
             ],
             [
              0.7777777777777778,
              "#fb9f3a"
             ],
             [
              0.8888888888888888,
              "#fdca26"
             ],
             [
              1,
              "#f0f921"
             ]
            ],
            "type": "histogram2dcontour"
           }
          ],
          "mesh3d": [
           {
            "colorbar": {
             "outlinewidth": 0,
             "ticks": ""
            },
            "type": "mesh3d"
           }
          ],
          "parcoords": [
           {
            "line": {
             "colorbar": {
              "outlinewidth": 0,
              "ticks": ""
             }
            },
            "type": "parcoords"
           }
          ],
          "pie": [
           {
            "automargin": true,
            "type": "pie"
           }
          ],
          "scatter": [
           {
            "fillpattern": {
             "fillmode": "overlay",
             "size": 10,
             "solidity": 0.2
            },
            "type": "scatter"
           }
          ],
          "scatter3d": [
           {
            "line": {
             "colorbar": {
              "outlinewidth": 0,
              "ticks": ""
             }
            },
            "marker": {
             "colorbar": {
              "outlinewidth": 0,
              "ticks": ""
             }
            },
            "type": "scatter3d"
           }
          ],
          "scattercarpet": [
           {
            "marker": {
             "colorbar": {
              "outlinewidth": 0,
              "ticks": ""
             }
            },
            "type": "scattercarpet"
           }
          ],
          "scattergeo": [
           {
            "marker": {
             "colorbar": {
              "outlinewidth": 0,
              "ticks": ""
             }
            },
            "type": "scattergeo"
           }
          ],
          "scattergl": [
           {
            "marker": {
             "colorbar": {
              "outlinewidth": 0,
              "ticks": ""
             }
            },
            "type": "scattergl"
           }
          ],
          "scattermap": [
           {
            "marker": {
             "colorbar": {
              "outlinewidth": 0,
              "ticks": ""
             }
            },
            "type": "scattermap"
           }
          ],
          "scattermapbox": [
           {
            "marker": {
             "colorbar": {
              "outlinewidth": 0,
              "ticks": ""
             }
            },
            "type": "scattermapbox"
           }
          ],
          "scatterpolar": [
           {
            "marker": {
             "colorbar": {
              "outlinewidth": 0,
              "ticks": ""
             }
            },
            "type": "scatterpolar"
           }
          ],
          "scatterpolargl": [
           {
            "marker": {
             "colorbar": {
              "outlinewidth": 0,
              "ticks": ""
             }
            },
            "type": "scatterpolargl"
           }
          ],
          "scatterternary": [
           {
            "marker": {
             "colorbar": {
              "outlinewidth": 0,
              "ticks": ""
             }
            },
            "type": "scatterternary"
           }
          ],
          "surface": [
           {
            "colorbar": {
             "outlinewidth": 0,
             "ticks": ""
            },
            "colorscale": [
             [
              0,
              "#0d0887"
             ],
             [
              0.1111111111111111,
              "#46039f"
             ],
             [
              0.2222222222222222,
              "#7201a8"
             ],
             [
              0.3333333333333333,
              "#9c179e"
             ],
             [
              0.4444444444444444,
              "#bd3786"
             ],
             [
              0.5555555555555556,
              "#d8576b"
             ],
             [
              0.6666666666666666,
              "#ed7953"
             ],
             [
              0.7777777777777778,
              "#fb9f3a"
             ],
             [
              0.8888888888888888,
              "#fdca26"
             ],
             [
              1,
              "#f0f921"
             ]
            ],
            "type": "surface"
           }
          ],
          "table": [
           {
            "cells": {
             "fill": {
              "color": "#EBF0F8"
             },
             "line": {
              "color": "white"
             }
            },
            "header": {
             "fill": {
              "color": "#C8D4E3"
             },
             "line": {
              "color": "white"
             }
            },
            "type": "table"
           }
          ]
         },
         "layout": {
          "annotationdefaults": {
           "arrowcolor": "#2a3f5f",
           "arrowhead": 0,
           "arrowwidth": 1
          },
          "autotypenumbers": "strict",
          "coloraxis": {
           "colorbar": {
            "outlinewidth": 0,
            "ticks": ""
           }
          },
          "colorscale": {
           "diverging": [
            [
             0,
             "#8e0152"
            ],
            [
             0.1,
             "#c51b7d"
            ],
            [
             0.2,
             "#de77ae"
            ],
            [
             0.3,
             "#f1b6da"
            ],
            [
             0.4,
             "#fde0ef"
            ],
            [
             0.5,
             "#f7f7f7"
            ],
            [
             0.6,
             "#e6f5d0"
            ],
            [
             0.7,
             "#b8e186"
            ],
            [
             0.8,
             "#7fbc41"
            ],
            [
             0.9,
             "#4d9221"
            ],
            [
             1,
             "#276419"
            ]
           ],
           "sequential": [
            [
             0,
             "#0d0887"
            ],
            [
             0.1111111111111111,
             "#46039f"
            ],
            [
             0.2222222222222222,
             "#7201a8"
            ],
            [
             0.3333333333333333,
             "#9c179e"
            ],
            [
             0.4444444444444444,
             "#bd3786"
            ],
            [
             0.5555555555555556,
             "#d8576b"
            ],
            [
             0.6666666666666666,
             "#ed7953"
            ],
            [
             0.7777777777777778,
             "#fb9f3a"
            ],
            [
             0.8888888888888888,
             "#fdca26"
            ],
            [
             1,
             "#f0f921"
            ]
           ],
           "sequentialminus": [
            [
             0,
             "#0d0887"
            ],
            [
             0.1111111111111111,
             "#46039f"
            ],
            [
             0.2222222222222222,
             "#7201a8"
            ],
            [
             0.3333333333333333,
             "#9c179e"
            ],
            [
             0.4444444444444444,
             "#bd3786"
            ],
            [
             0.5555555555555556,
             "#d8576b"
            ],
            [
             0.6666666666666666,
             "#ed7953"
            ],
            [
             0.7777777777777778,
             "#fb9f3a"
            ],
            [
             0.8888888888888888,
             "#fdca26"
            ],
            [
             1,
             "#f0f921"
            ]
           ]
          },
          "colorway": [
           "#636efa",
           "#EF553B",
           "#00cc96",
           "#ab63fa",
           "#FFA15A",
           "#19d3f3",
           "#FF6692",
           "#B6E880",
           "#FF97FF",
           "#FECB52"
          ],
          "font": {
           "color": "#2a3f5f"
          },
          "geo": {
           "bgcolor": "white",
           "lakecolor": "white",
           "landcolor": "#E5ECF6",
           "showlakes": true,
           "showland": true,
           "subunitcolor": "white"
          },
          "hoverlabel": {
           "align": "left"
          },
          "hovermode": "closest",
          "mapbox": {
           "style": "light"
          },
          "paper_bgcolor": "white",
          "plot_bgcolor": "#E5ECF6",
          "polar": {
           "angularaxis": {
            "gridcolor": "white",
            "linecolor": "white",
            "ticks": ""
           },
           "bgcolor": "#E5ECF6",
           "radialaxis": {
            "gridcolor": "white",
            "linecolor": "white",
            "ticks": ""
           }
          },
          "scene": {
           "xaxis": {
            "backgroundcolor": "#E5ECF6",
            "gridcolor": "white",
            "gridwidth": 2,
            "linecolor": "white",
            "showbackground": true,
            "ticks": "",
            "zerolinecolor": "white"
           },
           "yaxis": {
            "backgroundcolor": "#E5ECF6",
            "gridcolor": "white",
            "gridwidth": 2,
            "linecolor": "white",
            "showbackground": true,
            "ticks": "",
            "zerolinecolor": "white"
           },
           "zaxis": {
            "backgroundcolor": "#E5ECF6",
            "gridcolor": "white",
            "gridwidth": 2,
            "linecolor": "white",
            "showbackground": true,
            "ticks": "",
            "zerolinecolor": "white"
           }
          },
          "shapedefaults": {
           "line": {
            "color": "#2a3f5f"
           }
          },
          "ternary": {
           "aaxis": {
            "gridcolor": "white",
            "linecolor": "white",
            "ticks": ""
           },
           "baxis": {
            "gridcolor": "white",
            "linecolor": "white",
            "ticks": ""
           },
           "bgcolor": "#E5ECF6",
           "caxis": {
            "gridcolor": "white",
            "linecolor": "white",
            "ticks": ""
           }
          },
          "title": {
           "x": 0.05
          },
          "xaxis": {
           "automargin": true,
           "gridcolor": "white",
           "linecolor": "white",
           "ticks": "",
           "title": {
            "standoff": 15
           },
           "zerolinecolor": "white",
           "zerolinewidth": 2
          },
          "yaxis": {
           "automargin": true,
           "gridcolor": "white",
           "linecolor": "white",
           "ticks": "",
           "title": {
            "standoff": 15
           },
           "zerolinecolor": "white",
           "zerolinewidth": 2
          }
         }
        },
        "title": {
         "text": "Siniestros por ubicación"
        }
       }
      }
     },
     "metadata": {},
     "output_type": "display_data"
    }
   ],
   "source": [
    "# visualización base de siniestros por ubicación\n",
    "fig = px.density_map(siniestros_por_ubi, lat = 'COORDENADAS LATITUD', lon = 'COORDENADAS  LONGITUD', z = 'CÓDIGO SINIESTRO', radius = 10, title = 'Siniestros por ubicación')\n",
    "fig.show()"
   ]
  },
  {
   "cell_type": "code",
   "execution_count": null,
   "id": "385d0aee",
   "metadata": {},
   "outputs": [
    {
     "data": {
      "text/html": [
       "\n",
       "        <iframe\n",
       "            width=\"100%\"\n",
       "            height=\"650\"\n",
       "            src=\"http://127.0.0.1:8050/\"\n",
       "            frameborder=\"0\"\n",
       "            allowfullscreen\n",
       "            \n",
       "        ></iframe>\n",
       "        "
      ],
      "text/plain": [
       "<IPython.lib.display.IFrame at 0x2cf85118530>"
      ]
     },
     "metadata": {},
     "output_type": "display_data"
    }
   ],
   "source": [
    "app = Dash()\n",
    "\n",
    "app.layout = [html.Div([html.H1('Dashbaord de siniestros y vehículos')]),\n",
    "              dcc.Graph(figure = px.density_map(siniestros_por_ubi, lat = siniestros_por_ubi['COORDENADAS LATITUD'], lon = siniestros_por_ubi['COORDENADAS  LONGITUD'], z = siniestros_por_ubi['CÓDIGO SINIESTRO'], radius = 10, title = 'Siniestros por ubicación'))]\n",
    "\n",
    "if __name__ == '__main__':\n",
    "    app.run(debug=True)"
   ]
  },
  {
   "cell_type": "code",
   "execution_count": 16,
   "id": "46a36f5c",
   "metadata": {},
   "outputs": [
    {
     "data": {
      "application/vnd.plotly.v1+json": {
       "config": {
        "plotlyServerURL": "https://plot.ly"
       },
       "data": [
        {
         "domain": {
          "x": [
           0,
           1
          ],
          "y": [
           0,
           1
          ]
         },
         "hovertemplate": "TIPO DE VÍA=%{label}<br>CÓDIGO SINIESTRO=%{value}<extra></extra>",
         "labels": [
          "ALAMEDA",
          "AUTOPISTA",
          "AVENIDA",
          "CALLE",
          "CARRETERA",
          "JIRÓN",
          "OTRO",
          "PASAJE",
          "VIA EXPRESA"
         ],
         "legendgroup": "",
         "name": "",
         "showlegend": true,
         "type": "pie",
         "values": {
          "bdata": "AQANAGwF5wByHa8AVQAMAAgA",
          "dtype": "i2"
         }
        }
       ],
       "layout": {
        "legend": {
         "tracegroupgap": 0
        },
        "template": {
         "data": {
          "bar": [
           {
            "error_x": {
             "color": "#2a3f5f"
            },
            "error_y": {
             "color": "#2a3f5f"
            },
            "marker": {
             "line": {
              "color": "#E5ECF6",
              "width": 0.5
             },
             "pattern": {
              "fillmode": "overlay",
              "size": 10,
              "solidity": 0.2
             }
            },
            "type": "bar"
           }
          ],
          "barpolar": [
           {
            "marker": {
             "line": {
              "color": "#E5ECF6",
              "width": 0.5
             },
             "pattern": {
              "fillmode": "overlay",
              "size": 10,
              "solidity": 0.2
             }
            },
            "type": "barpolar"
           }
          ],
          "carpet": [
           {
            "aaxis": {
             "endlinecolor": "#2a3f5f",
             "gridcolor": "white",
             "linecolor": "white",
             "minorgridcolor": "white",
             "startlinecolor": "#2a3f5f"
            },
            "baxis": {
             "endlinecolor": "#2a3f5f",
             "gridcolor": "white",
             "linecolor": "white",
             "minorgridcolor": "white",
             "startlinecolor": "#2a3f5f"
            },
            "type": "carpet"
           }
          ],
          "choropleth": [
           {
            "colorbar": {
             "outlinewidth": 0,
             "ticks": ""
            },
            "type": "choropleth"
           }
          ],
          "contour": [
           {
            "colorbar": {
             "outlinewidth": 0,
             "ticks": ""
            },
            "colorscale": [
             [
              0,
              "#0d0887"
             ],
             [
              0.1111111111111111,
              "#46039f"
             ],
             [
              0.2222222222222222,
              "#7201a8"
             ],
             [
              0.3333333333333333,
              "#9c179e"
             ],
             [
              0.4444444444444444,
              "#bd3786"
             ],
             [
              0.5555555555555556,
              "#d8576b"
             ],
             [
              0.6666666666666666,
              "#ed7953"
             ],
             [
              0.7777777777777778,
              "#fb9f3a"
             ],
             [
              0.8888888888888888,
              "#fdca26"
             ],
             [
              1,
              "#f0f921"
             ]
            ],
            "type": "contour"
           }
          ],
          "contourcarpet": [
           {
            "colorbar": {
             "outlinewidth": 0,
             "ticks": ""
            },
            "type": "contourcarpet"
           }
          ],
          "heatmap": [
           {
            "colorbar": {
             "outlinewidth": 0,
             "ticks": ""
            },
            "colorscale": [
             [
              0,
              "#0d0887"
             ],
             [
              0.1111111111111111,
              "#46039f"
             ],
             [
              0.2222222222222222,
              "#7201a8"
             ],
             [
              0.3333333333333333,
              "#9c179e"
             ],
             [
              0.4444444444444444,
              "#bd3786"
             ],
             [
              0.5555555555555556,
              "#d8576b"
             ],
             [
              0.6666666666666666,
              "#ed7953"
             ],
             [
              0.7777777777777778,
              "#fb9f3a"
             ],
             [
              0.8888888888888888,
              "#fdca26"
             ],
             [
              1,
              "#f0f921"
             ]
            ],
            "type": "heatmap"
           }
          ],
          "histogram": [
           {
            "marker": {
             "pattern": {
              "fillmode": "overlay",
              "size": 10,
              "solidity": 0.2
             }
            },
            "type": "histogram"
           }
          ],
          "histogram2d": [
           {
            "colorbar": {
             "outlinewidth": 0,
             "ticks": ""
            },
            "colorscale": [
             [
              0,
              "#0d0887"
             ],
             [
              0.1111111111111111,
              "#46039f"
             ],
             [
              0.2222222222222222,
              "#7201a8"
             ],
             [
              0.3333333333333333,
              "#9c179e"
             ],
             [
              0.4444444444444444,
              "#bd3786"
             ],
             [
              0.5555555555555556,
              "#d8576b"
             ],
             [
              0.6666666666666666,
              "#ed7953"
             ],
             [
              0.7777777777777778,
              "#fb9f3a"
             ],
             [
              0.8888888888888888,
              "#fdca26"
             ],
             [
              1,
              "#f0f921"
             ]
            ],
            "type": "histogram2d"
           }
          ],
          "histogram2dcontour": [
           {
            "colorbar": {
             "outlinewidth": 0,
             "ticks": ""
            },
            "colorscale": [
             [
              0,
              "#0d0887"
             ],
             [
              0.1111111111111111,
              "#46039f"
             ],
             [
              0.2222222222222222,
              "#7201a8"
             ],
             [
              0.3333333333333333,
              "#9c179e"
             ],
             [
              0.4444444444444444,
              "#bd3786"
             ],
             [
              0.5555555555555556,
              "#d8576b"
             ],
             [
              0.6666666666666666,
              "#ed7953"
             ],
             [
              0.7777777777777778,
              "#fb9f3a"
             ],
             [
              0.8888888888888888,
              "#fdca26"
             ],
             [
              1,
              "#f0f921"
             ]
            ],
            "type": "histogram2dcontour"
           }
          ],
          "mesh3d": [
           {
            "colorbar": {
             "outlinewidth": 0,
             "ticks": ""
            },
            "type": "mesh3d"
           }
          ],
          "parcoords": [
           {
            "line": {
             "colorbar": {
              "outlinewidth": 0,
              "ticks": ""
             }
            },
            "type": "parcoords"
           }
          ],
          "pie": [
           {
            "automargin": true,
            "type": "pie"
           }
          ],
          "scatter": [
           {
            "fillpattern": {
             "fillmode": "overlay",
             "size": 10,
             "solidity": 0.2
            },
            "type": "scatter"
           }
          ],
          "scatter3d": [
           {
            "line": {
             "colorbar": {
              "outlinewidth": 0,
              "ticks": ""
             }
            },
            "marker": {
             "colorbar": {
              "outlinewidth": 0,
              "ticks": ""
             }
            },
            "type": "scatter3d"
           }
          ],
          "scattercarpet": [
           {
            "marker": {
             "colorbar": {
              "outlinewidth": 0,
              "ticks": ""
             }
            },
            "type": "scattercarpet"
           }
          ],
          "scattergeo": [
           {
            "marker": {
             "colorbar": {
              "outlinewidth": 0,
              "ticks": ""
             }
            },
            "type": "scattergeo"
           }
          ],
          "scattergl": [
           {
            "marker": {
             "colorbar": {
              "outlinewidth": 0,
              "ticks": ""
             }
            },
            "type": "scattergl"
           }
          ],
          "scattermap": [
           {
            "marker": {
             "colorbar": {
              "outlinewidth": 0,
              "ticks": ""
             }
            },
            "type": "scattermap"
           }
          ],
          "scattermapbox": [
           {
            "marker": {
             "colorbar": {
              "outlinewidth": 0,
              "ticks": ""
             }
            },
            "type": "scattermapbox"
           }
          ],
          "scatterpolar": [
           {
            "marker": {
             "colorbar": {
              "outlinewidth": 0,
              "ticks": ""
             }
            },
            "type": "scatterpolar"
           }
          ],
          "scatterpolargl": [
           {
            "marker": {
             "colorbar": {
              "outlinewidth": 0,
              "ticks": ""
             }
            },
            "type": "scatterpolargl"
           }
          ],
          "scatterternary": [
           {
            "marker": {
             "colorbar": {
              "outlinewidth": 0,
              "ticks": ""
             }
            },
            "type": "scatterternary"
           }
          ],
          "surface": [
           {
            "colorbar": {
             "outlinewidth": 0,
             "ticks": ""
            },
            "colorscale": [
             [
              0,
              "#0d0887"
             ],
             [
              0.1111111111111111,
              "#46039f"
             ],
             [
              0.2222222222222222,
              "#7201a8"
             ],
             [
              0.3333333333333333,
              "#9c179e"
             ],
             [
              0.4444444444444444,
              "#bd3786"
             ],
             [
              0.5555555555555556,
              "#d8576b"
             ],
             [
              0.6666666666666666,
              "#ed7953"
             ],
             [
              0.7777777777777778,
              "#fb9f3a"
             ],
             [
              0.8888888888888888,
              "#fdca26"
             ],
             [
              1,
              "#f0f921"
             ]
            ],
            "type": "surface"
           }
          ],
          "table": [
           {
            "cells": {
             "fill": {
              "color": "#EBF0F8"
             },
             "line": {
              "color": "white"
             }
            },
            "header": {
             "fill": {
              "color": "#C8D4E3"
             },
             "line": {
              "color": "white"
             }
            },
            "type": "table"
           }
          ]
         },
         "layout": {
          "annotationdefaults": {
           "arrowcolor": "#2a3f5f",
           "arrowhead": 0,
           "arrowwidth": 1
          },
          "autotypenumbers": "strict",
          "coloraxis": {
           "colorbar": {
            "outlinewidth": 0,
            "ticks": ""
           }
          },
          "colorscale": {
           "diverging": [
            [
             0,
             "#8e0152"
            ],
            [
             0.1,
             "#c51b7d"
            ],
            [
             0.2,
             "#de77ae"
            ],
            [
             0.3,
             "#f1b6da"
            ],
            [
             0.4,
             "#fde0ef"
            ],
            [
             0.5,
             "#f7f7f7"
            ],
            [
             0.6,
             "#e6f5d0"
            ],
            [
             0.7,
             "#b8e186"
            ],
            [
             0.8,
             "#7fbc41"
            ],
            [
             0.9,
             "#4d9221"
            ],
            [
             1,
             "#276419"
            ]
           ],
           "sequential": [
            [
             0,
             "#0d0887"
            ],
            [
             0.1111111111111111,
             "#46039f"
            ],
            [
             0.2222222222222222,
             "#7201a8"
            ],
            [
             0.3333333333333333,
             "#9c179e"
            ],
            [
             0.4444444444444444,
             "#bd3786"
            ],
            [
             0.5555555555555556,
             "#d8576b"
            ],
            [
             0.6666666666666666,
             "#ed7953"
            ],
            [
             0.7777777777777778,
             "#fb9f3a"
            ],
            [
             0.8888888888888888,
             "#fdca26"
            ],
            [
             1,
             "#f0f921"
            ]
           ],
           "sequentialminus": [
            [
             0,
             "#0d0887"
            ],
            [
             0.1111111111111111,
             "#46039f"
            ],
            [
             0.2222222222222222,
             "#7201a8"
            ],
            [
             0.3333333333333333,
             "#9c179e"
            ],
            [
             0.4444444444444444,
             "#bd3786"
            ],
            [
             0.5555555555555556,
             "#d8576b"
            ],
            [
             0.6666666666666666,
             "#ed7953"
            ],
            [
             0.7777777777777778,
             "#fb9f3a"
            ],
            [
             0.8888888888888888,
             "#fdca26"
            ],
            [
             1,
             "#f0f921"
            ]
           ]
          },
          "colorway": [
           "#636efa",
           "#EF553B",
           "#00cc96",
           "#ab63fa",
           "#FFA15A",
           "#19d3f3",
           "#FF6692",
           "#B6E880",
           "#FF97FF",
           "#FECB52"
          ],
          "font": {
           "color": "#2a3f5f"
          },
          "geo": {
           "bgcolor": "white",
           "lakecolor": "white",
           "landcolor": "#E5ECF6",
           "showlakes": true,
           "showland": true,
           "subunitcolor": "white"
          },
          "hoverlabel": {
           "align": "left"
          },
          "hovermode": "closest",
          "mapbox": {
           "style": "light"
          },
          "paper_bgcolor": "white",
          "plot_bgcolor": "#E5ECF6",
          "polar": {
           "angularaxis": {
            "gridcolor": "white",
            "linecolor": "white",
            "ticks": ""
           },
           "bgcolor": "#E5ECF6",
           "radialaxis": {
            "gridcolor": "white",
            "linecolor": "white",
            "ticks": ""
           }
          },
          "scene": {
           "xaxis": {
            "backgroundcolor": "#E5ECF6",
            "gridcolor": "white",
            "gridwidth": 2,
            "linecolor": "white",
            "showbackground": true,
            "ticks": "",
            "zerolinecolor": "white"
           },
           "yaxis": {
            "backgroundcolor": "#E5ECF6",
            "gridcolor": "white",
            "gridwidth": 2,
            "linecolor": "white",
            "showbackground": true,
            "ticks": "",
            "zerolinecolor": "white"
           },
           "zaxis": {
            "backgroundcolor": "#E5ECF6",
            "gridcolor": "white",
            "gridwidth": 2,
            "linecolor": "white",
            "showbackground": true,
            "ticks": "",
            "zerolinecolor": "white"
           }
          },
          "shapedefaults": {
           "line": {
            "color": "#2a3f5f"
           }
          },
          "ternary": {
           "aaxis": {
            "gridcolor": "white",
            "linecolor": "white",
            "ticks": ""
           },
           "baxis": {
            "gridcolor": "white",
            "linecolor": "white",
            "ticks": ""
           },
           "bgcolor": "#E5ECF6",
           "caxis": {
            "gridcolor": "white",
            "linecolor": "white",
            "ticks": ""
           }
          },
          "title": {
           "x": 0.05
          },
          "xaxis": {
           "automargin": true,
           "gridcolor": "white",
           "linecolor": "white",
           "ticks": "",
           "title": {
            "standoff": 15
           },
           "zerolinecolor": "white",
           "zerolinewidth": 2
          },
          "yaxis": {
           "automargin": true,
           "gridcolor": "white",
           "linecolor": "white",
           "ticks": "",
           "title": {
            "standoff": 15
           },
           "zerolinecolor": "white",
           "zerolinewidth": 2
          }
         }
        },
        "title": {
         "text": "Siniestros por tipo de vía"
        }
       }
      }
     },
     "metadata": {},
     "output_type": "display_data"
    }
   ],
   "source": [
    "siniestros_por_via = vehiculos_siniestros.groupby('TIPO DE VÍA')['CÓDIGO SINIESTRO'].count().reset_index()\n",
    "fig = px.pie(siniestros_por_via, names='TIPO DE VÍA', values='CÓDIGO SINIESTRO', title='Siniestros por tipo de vía')\n",
    "fig.show()"
   ]
  },
  {
   "cell_type": "code",
   "execution_count": 19,
   "id": "dffa1ff7",
   "metadata": {},
   "outputs": [
    {
     "data": {
      "application/vnd.plotly.v1+json": {
       "config": {
        "plotlyServerURL": "https://plot.ly"
       },
       "data": [
        {
         "domain": {
          "x": [
           0,
           1
          ],
          "y": [
           0,
           1
          ]
         },
         "hovertemplate": "SUPERFICIE DE CALZADA=%{label}<br>CÓDIGO SINIESTRO=%{value}<extra></extra>",
         "labels": [
          "ADOQUINADO",
          "AFIRMADO",
          "ASFALTADA",
          "CASCAJO/RIPIO",
          "CONCRETO",
          "EMPEDRADO",
          "TROCHA"
         ],
         "legendgroup": "",
         "name": "",
         "showlegend": true,
         "type": "pie",
         "values": {
          "bdata": "CAAHAiIeJADnAAgA+wE=",
          "dtype": "i2"
         }
        }
       ],
       "layout": {
        "legend": {
         "tracegroupgap": 0
        },
        "template": {
         "data": {
          "bar": [
           {
            "error_x": {
             "color": "#2a3f5f"
            },
            "error_y": {
             "color": "#2a3f5f"
            },
            "marker": {
             "line": {
              "color": "#E5ECF6",
              "width": 0.5
             },
             "pattern": {
              "fillmode": "overlay",
              "size": 10,
              "solidity": 0.2
             }
            },
            "type": "bar"
           }
          ],
          "barpolar": [
           {
            "marker": {
             "line": {
              "color": "#E5ECF6",
              "width": 0.5
             },
             "pattern": {
              "fillmode": "overlay",
              "size": 10,
              "solidity": 0.2
             }
            },
            "type": "barpolar"
           }
          ],
          "carpet": [
           {
            "aaxis": {
             "endlinecolor": "#2a3f5f",
             "gridcolor": "white",
             "linecolor": "white",
             "minorgridcolor": "white",
             "startlinecolor": "#2a3f5f"
            },
            "baxis": {
             "endlinecolor": "#2a3f5f",
             "gridcolor": "white",
             "linecolor": "white",
             "minorgridcolor": "white",
             "startlinecolor": "#2a3f5f"
            },
            "type": "carpet"
           }
          ],
          "choropleth": [
           {
            "colorbar": {
             "outlinewidth": 0,
             "ticks": ""
            },
            "type": "choropleth"
           }
          ],
          "contour": [
           {
            "colorbar": {
             "outlinewidth": 0,
             "ticks": ""
            },
            "colorscale": [
             [
              0,
              "#0d0887"
             ],
             [
              0.1111111111111111,
              "#46039f"
             ],
             [
              0.2222222222222222,
              "#7201a8"
             ],
             [
              0.3333333333333333,
              "#9c179e"
             ],
             [
              0.4444444444444444,
              "#bd3786"
             ],
             [
              0.5555555555555556,
              "#d8576b"
             ],
             [
              0.6666666666666666,
              "#ed7953"
             ],
             [
              0.7777777777777778,
              "#fb9f3a"
             ],
             [
              0.8888888888888888,
              "#fdca26"
             ],
             [
              1,
              "#f0f921"
             ]
            ],
            "type": "contour"
           }
          ],
          "contourcarpet": [
           {
            "colorbar": {
             "outlinewidth": 0,
             "ticks": ""
            },
            "type": "contourcarpet"
           }
          ],
          "heatmap": [
           {
            "colorbar": {
             "outlinewidth": 0,
             "ticks": ""
            },
            "colorscale": [
             [
              0,
              "#0d0887"
             ],
             [
              0.1111111111111111,
              "#46039f"
             ],
             [
              0.2222222222222222,
              "#7201a8"
             ],
             [
              0.3333333333333333,
              "#9c179e"
             ],
             [
              0.4444444444444444,
              "#bd3786"
             ],
             [
              0.5555555555555556,
              "#d8576b"
             ],
             [
              0.6666666666666666,
              "#ed7953"
             ],
             [
              0.7777777777777778,
              "#fb9f3a"
             ],
             [
              0.8888888888888888,
              "#fdca26"
             ],
             [
              1,
              "#f0f921"
             ]
            ],
            "type": "heatmap"
           }
          ],
          "histogram": [
           {
            "marker": {
             "pattern": {
              "fillmode": "overlay",
              "size": 10,
              "solidity": 0.2
             }
            },
            "type": "histogram"
           }
          ],
          "histogram2d": [
           {
            "colorbar": {
             "outlinewidth": 0,
             "ticks": ""
            },
            "colorscale": [
             [
              0,
              "#0d0887"
             ],
             [
              0.1111111111111111,
              "#46039f"
             ],
             [
              0.2222222222222222,
              "#7201a8"
             ],
             [
              0.3333333333333333,
              "#9c179e"
             ],
             [
              0.4444444444444444,
              "#bd3786"
             ],
             [
              0.5555555555555556,
              "#d8576b"
             ],
             [
              0.6666666666666666,
              "#ed7953"
             ],
             [
              0.7777777777777778,
              "#fb9f3a"
             ],
             [
              0.8888888888888888,
              "#fdca26"
             ],
             [
              1,
              "#f0f921"
             ]
            ],
            "type": "histogram2d"
           }
          ],
          "histogram2dcontour": [
           {
            "colorbar": {
             "outlinewidth": 0,
             "ticks": ""
            },
            "colorscale": [
             [
              0,
              "#0d0887"
             ],
             [
              0.1111111111111111,
              "#46039f"
             ],
             [
              0.2222222222222222,
              "#7201a8"
             ],
             [
              0.3333333333333333,
              "#9c179e"
             ],
             [
              0.4444444444444444,
              "#bd3786"
             ],
             [
              0.5555555555555556,
              "#d8576b"
             ],
             [
              0.6666666666666666,
              "#ed7953"
             ],
             [
              0.7777777777777778,
              "#fb9f3a"
             ],
             [
              0.8888888888888888,
              "#fdca26"
             ],
             [
              1,
              "#f0f921"
             ]
            ],
            "type": "histogram2dcontour"
           }
          ],
          "mesh3d": [
           {
            "colorbar": {
             "outlinewidth": 0,
             "ticks": ""
            },
            "type": "mesh3d"
           }
          ],
          "parcoords": [
           {
            "line": {
             "colorbar": {
              "outlinewidth": 0,
              "ticks": ""
             }
            },
            "type": "parcoords"
           }
          ],
          "pie": [
           {
            "automargin": true,
            "type": "pie"
           }
          ],
          "scatter": [
           {
            "fillpattern": {
             "fillmode": "overlay",
             "size": 10,
             "solidity": 0.2
            },
            "type": "scatter"
           }
          ],
          "scatter3d": [
           {
            "line": {
             "colorbar": {
              "outlinewidth": 0,
              "ticks": ""
             }
            },
            "marker": {
             "colorbar": {
              "outlinewidth": 0,
              "ticks": ""
             }
            },
            "type": "scatter3d"
           }
          ],
          "scattercarpet": [
           {
            "marker": {
             "colorbar": {
              "outlinewidth": 0,
              "ticks": ""
             }
            },
            "type": "scattercarpet"
           }
          ],
          "scattergeo": [
           {
            "marker": {
             "colorbar": {
              "outlinewidth": 0,
              "ticks": ""
             }
            },
            "type": "scattergeo"
           }
          ],
          "scattergl": [
           {
            "marker": {
             "colorbar": {
              "outlinewidth": 0,
              "ticks": ""
             }
            },
            "type": "scattergl"
           }
          ],
          "scattermap": [
           {
            "marker": {
             "colorbar": {
              "outlinewidth": 0,
              "ticks": ""
             }
            },
            "type": "scattermap"
           }
          ],
          "scattermapbox": [
           {
            "marker": {
             "colorbar": {
              "outlinewidth": 0,
              "ticks": ""
             }
            },
            "type": "scattermapbox"
           }
          ],
          "scatterpolar": [
           {
            "marker": {
             "colorbar": {
              "outlinewidth": 0,
              "ticks": ""
             }
            },
            "type": "scatterpolar"
           }
          ],
          "scatterpolargl": [
           {
            "marker": {
             "colorbar": {
              "outlinewidth": 0,
              "ticks": ""
             }
            },
            "type": "scatterpolargl"
           }
          ],
          "scatterternary": [
           {
            "marker": {
             "colorbar": {
              "outlinewidth": 0,
              "ticks": ""
             }
            },
            "type": "scatterternary"
           }
          ],
          "surface": [
           {
            "colorbar": {
             "outlinewidth": 0,
             "ticks": ""
            },
            "colorscale": [
             [
              0,
              "#0d0887"
             ],
             [
              0.1111111111111111,
              "#46039f"
             ],
             [
              0.2222222222222222,
              "#7201a8"
             ],
             [
              0.3333333333333333,
              "#9c179e"
             ],
             [
              0.4444444444444444,
              "#bd3786"
             ],
             [
              0.5555555555555556,
              "#d8576b"
             ],
             [
              0.6666666666666666,
              "#ed7953"
             ],
             [
              0.7777777777777778,
              "#fb9f3a"
             ],
             [
              0.8888888888888888,
              "#fdca26"
             ],
             [
              1,
              "#f0f921"
             ]
            ],
            "type": "surface"
           }
          ],
          "table": [
           {
            "cells": {
             "fill": {
              "color": "#EBF0F8"
             },
             "line": {
              "color": "white"
             }
            },
            "header": {
             "fill": {
              "color": "#C8D4E3"
             },
             "line": {
              "color": "white"
             }
            },
            "type": "table"
           }
          ]
         },
         "layout": {
          "annotationdefaults": {
           "arrowcolor": "#2a3f5f",
           "arrowhead": 0,
           "arrowwidth": 1
          },
          "autotypenumbers": "strict",
          "coloraxis": {
           "colorbar": {
            "outlinewidth": 0,
            "ticks": ""
           }
          },
          "colorscale": {
           "diverging": [
            [
             0,
             "#8e0152"
            ],
            [
             0.1,
             "#c51b7d"
            ],
            [
             0.2,
             "#de77ae"
            ],
            [
             0.3,
             "#f1b6da"
            ],
            [
             0.4,
             "#fde0ef"
            ],
            [
             0.5,
             "#f7f7f7"
            ],
            [
             0.6,
             "#e6f5d0"
            ],
            [
             0.7,
             "#b8e186"
            ],
            [
             0.8,
             "#7fbc41"
            ],
            [
             0.9,
             "#4d9221"
            ],
            [
             1,
             "#276419"
            ]
           ],
           "sequential": [
            [
             0,
             "#0d0887"
            ],
            [
             0.1111111111111111,
             "#46039f"
            ],
            [
             0.2222222222222222,
             "#7201a8"
            ],
            [
             0.3333333333333333,
             "#9c179e"
            ],
            [
             0.4444444444444444,
             "#bd3786"
            ],
            [
             0.5555555555555556,
             "#d8576b"
            ],
            [
             0.6666666666666666,
             "#ed7953"
            ],
            [
             0.7777777777777778,
             "#fb9f3a"
            ],
            [
             0.8888888888888888,
             "#fdca26"
            ],
            [
             1,
             "#f0f921"
            ]
           ],
           "sequentialminus": [
            [
             0,
             "#0d0887"
            ],
            [
             0.1111111111111111,
             "#46039f"
            ],
            [
             0.2222222222222222,
             "#7201a8"
            ],
            [
             0.3333333333333333,
             "#9c179e"
            ],
            [
             0.4444444444444444,
             "#bd3786"
            ],
            [
             0.5555555555555556,
             "#d8576b"
            ],
            [
             0.6666666666666666,
             "#ed7953"
            ],
            [
             0.7777777777777778,
             "#fb9f3a"
            ],
            [
             0.8888888888888888,
             "#fdca26"
            ],
            [
             1,
             "#f0f921"
            ]
           ]
          },
          "colorway": [
           "#636efa",
           "#EF553B",
           "#00cc96",
           "#ab63fa",
           "#FFA15A",
           "#19d3f3",
           "#FF6692",
           "#B6E880",
           "#FF97FF",
           "#FECB52"
          ],
          "font": {
           "color": "#2a3f5f"
          },
          "geo": {
           "bgcolor": "white",
           "lakecolor": "white",
           "landcolor": "#E5ECF6",
           "showlakes": true,
           "showland": true,
           "subunitcolor": "white"
          },
          "hoverlabel": {
           "align": "left"
          },
          "hovermode": "closest",
          "mapbox": {
           "style": "light"
          },
          "paper_bgcolor": "white",
          "plot_bgcolor": "#E5ECF6",
          "polar": {
           "angularaxis": {
            "gridcolor": "white",
            "linecolor": "white",
            "ticks": ""
           },
           "bgcolor": "#E5ECF6",
           "radialaxis": {
            "gridcolor": "white",
            "linecolor": "white",
            "ticks": ""
           }
          },
          "scene": {
           "xaxis": {
            "backgroundcolor": "#E5ECF6",
            "gridcolor": "white",
            "gridwidth": 2,
            "linecolor": "white",
            "showbackground": true,
            "ticks": "",
            "zerolinecolor": "white"
           },
           "yaxis": {
            "backgroundcolor": "#E5ECF6",
            "gridcolor": "white",
            "gridwidth": 2,
            "linecolor": "white",
            "showbackground": true,
            "ticks": "",
            "zerolinecolor": "white"
           },
           "zaxis": {
            "backgroundcolor": "#E5ECF6",
            "gridcolor": "white",
            "gridwidth": 2,
            "linecolor": "white",
            "showbackground": true,
            "ticks": "",
            "zerolinecolor": "white"
           }
          },
          "shapedefaults": {
           "line": {
            "color": "#2a3f5f"
           }
          },
          "ternary": {
           "aaxis": {
            "gridcolor": "white",
            "linecolor": "white",
            "ticks": ""
           },
           "baxis": {
            "gridcolor": "white",
            "linecolor": "white",
            "ticks": ""
           },
           "bgcolor": "#E5ECF6",
           "caxis": {
            "gridcolor": "white",
            "linecolor": "white",
            "ticks": ""
           }
          },
          "title": {
           "x": 0.05
          },
          "xaxis": {
           "automargin": true,
           "gridcolor": "white",
           "linecolor": "white",
           "ticks": "",
           "title": {
            "standoff": 15
           },
           "zerolinecolor": "white",
           "zerolinewidth": 2
          },
          "yaxis": {
           "automargin": true,
           "gridcolor": "white",
           "linecolor": "white",
           "ticks": "",
           "title": {
            "standoff": 15
           },
           "zerolinecolor": "white",
           "zerolinewidth": 2
          }
         }
        },
        "title": {
         "text": "Siniestros por siuperficie de calzada"
        }
       }
      }
     },
     "metadata": {},
     "output_type": "display_data"
    }
   ],
   "source": [
    "siniestros_por_calzada = vehiculos_siniestros.groupby('SUPERFICIE DE CALZADA')['CÓDIGO SINIESTRO'].count().reset_index()\n",
    "fig = px.pie(siniestros_por_calzada, names='SUPERFICIE DE CALZADA', values='CÓDIGO SINIESTRO', title='Siniestros por siuperficie de calzada')\n",
    "fig.show()"
   ]
  }
 ],
 "metadata": {
  "kernelspec": {
   "display_name": "Python 3",
   "language": "python",
   "name": "python3"
  },
  "language_info": {
   "codemirror_mode": {
    "name": "ipython",
    "version": 3
   },
   "file_extension": ".py",
   "mimetype": "text/x-python",
   "name": "python",
   "nbconvert_exporter": "python",
   "pygments_lexer": "ipython3",
   "version": "3.12.2"
  }
 },
 "nbformat": 4,
 "nbformat_minor": 5
}
